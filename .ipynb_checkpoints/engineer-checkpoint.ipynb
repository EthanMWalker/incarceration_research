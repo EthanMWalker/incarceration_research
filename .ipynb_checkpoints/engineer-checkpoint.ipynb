{
 "cells": [
  {
   "cell_type": "code",
   "execution_count": 40,
   "metadata": {},
   "outputs": [],
   "source": [
    "import re\n",
    "import pandas as pd\n",
    "import pickle\n",
    "import json\n",
    "import numpy as np\n",
    "import scipy.linalg as la\n",
    "import statsmodels.api as sm\n",
    "from sklearn import linear_model, model_selection, metrics\n",
    "import sklearn\n",
    "import plotly.graph_objs as go\n",
    "import matplotlib.pyplot as plt"
   ]
  },
  {
   "cell_type": "code",
   "execution_count": 2,
   "metadata": {},
   "outputs": [],
   "source": [
    "import sys\n",
    "np.set_printoptions(threshold=sys.maxsize)"
   ]
  },
  {
   "cell_type": "code",
   "execution_count": 3,
   "metadata": {},
   "outputs": [],
   "source": [
    "df = pd.read_csv('Sentenced_Inmates_in_Correctional_Facilities.csv')"
   ]
  },
  {
   "cell_type": "code",
   "execution_count": 4,
   "metadata": {},
   "outputs": [
    {
     "data": {
      "text/plain": [
       "Index(['DOWNLOAD DATE', 'IDENTIFIER', 'LATEST ADMISSION DATE', 'RACE',\n",
       "       'GENDER', 'AGE', 'END SENTENCE DATE', 'OFFENSE', 'FACILITY', 'DETAINER',\n",
       "       'SENTENCE DAYS',\n",
       "       'SPECIAL PAROLE END DATE                                                        '],\n",
       "      dtype='object')"
      ]
     },
     "execution_count": 4,
     "metadata": {},
     "output_type": "execute_result"
    }
   ],
   "source": [
    "df.columns"
   ]
  },
  {
   "cell_type": "code",
   "execution_count": 41,
   "metadata": {
    "scrolled": false
   },
   "outputs": [],
   "source": [
    "# df"
   ]
  },
  {
   "cell_type": "code",
   "execution_count": null,
   "metadata": {},
   "outputs": [],
   "source": []
  },
  {
   "cell_type": "code",
   "execution_count": null,
   "metadata": {
    "scrolled": true
   },
   "outputs": [],
   "source": [
    "df['LATEST ADMISSION DATE'] = pd.to_datetime(df['LATEST ADMISSION DATE'])\n",
    "# df['END SENTENCE DATE'] = pd.to_datetime(df['END SENTENCE DATE'])\n",
    "mask = df['END SENTENCE DATE'] is np.nan\n",
    "esd = 'END SENTENCE DATE'\n",
    "nesd = 'N END SENTENCE DATE'\n",
    "lad = 'LATEST ADMISSION DATE'\n",
    "sd = 'SENTENCE DAYS'\n",
    "new_end = np.empty_like(df[esd])\n",
    "for i in range(len(new_end)):\n",
    "    to_add = float(df.iloc[i][sd])\n",
    "    if to_add / 365 > 300:\n",
    "        to_add = 300.\n",
    "    new_end[i] = df.iloc[i][lad] + pd.DateOffset(days=to_add)\n",
    "df[esd] = new_end"
   ]
  },
  {
   "cell_type": "code",
   "execution_count": null,
   "metadata": {},
   "outputs": [],
   "source": [
    "race = pd.get_dummies(df.RACE)\n",
    "race.WHITE = race.WHITE + race['WHITE   ']\n",
    "race.drop('WHITE   ', axis=1, inplace=True)\n",
    "race.drop('WHITE', axis=1, inplace=True)\n",
    "\n",
    "gender = pd.get_dummies(df.GENDER).drop('F', axis=1)\n",
    "\n",
    "offence = pd.get_dummies(df.OFFENSE)\n",
    "\n",
    "# becasue of bad encoding I need to clean these variables\n",
    "offence['53A021'] = offence['53A021'] + offence['53A021                                  ']\n",
    "offence['ALTERNATE PENALTY FOR DRUG SALES'] = offence['ALTERNATE PENALTY FOR DRUG SALES        '] + offence['ALTERNATE PENALTY FOR DRUG SALES']\n",
    "offence['APPLICATION TO PURCHASE A FIREARM'] = offence['APPLICATION TO PURCHASE A FIREARM'] + offence['APPLICATION TO PURCHASE A FIREARM       ']\n",
    "offence['CARRY PIST/RVOLV W/O PERMIT'] = offence['CARRY PIST/RVOLV W/O PERMIT'] + offence['CARRY PIST/RVOLV W/O PERMIT             ']\n",
    "offence['CARRYING OR SALE OF DANGEROUS WEAPON'] = offence['CARRYING OR SALE OF DANGEROUS WEAPON'] + offence['CARRYING OR SALE OF DANGEROUS WEAPON    ']\n",
    "offence['CHEATING AT GAMBLING'] = offence['CHEATING AT GAMBLING'] + offence['CHEATING AT GAMBLING                    ']\n",
    "offence['CONSPIRACY'] = offence['CONSPIRACY'] + offence['CONSPIRACY                              ']\n",
    "offence['CREDIT CARD THEFT'] = offence['CREDIT CARD THEFT'] + offence['CREDIT CARD THEFT                       ']\n",
    "offence['CRIMINAL ATTEMPT'] = offence['CRIMINAL ATTEMPT'] + offence['CRIMINAL ATTEMPT                        ']\n",
    "offence['CRIMINAL LIABILITY FOR ANOTHER PERSON'] = offence['CRIMINAL LIABILITY FOR ANOTHER PERSON'] + offence['CRIMINAL LIABILITY FOR ANOTHER PERSON   ']\n",
    "offence['CRUELTY TO ANIMALS'] = offence['CRUELTY TO ANIMALS'] + offence['CRUELTY TO ANIMALS                      ']\n",
    "offence['CRUELTY TO PERSONS'] = offence['CRUELTY TO PERSONS'] + offence['CRUELTY TO PERSONS                      ']\n",
    "offence['DRIVING WHILE LICENSE SUSP FOR DWI'] = offence['DRIVING WHILE LICENSE SUSP FOR DWI'] + offence['DRIVING WHILE LICENSE SUSP FOR DWI      ']\n",
    "offence['DRUGS NEAR PROBIBITED PLACE'] = offence['DRUGS NEAR PROBIBITED PLACE'] + offence['DRUGS NEAR PROBIBITED PLACE             ']\n",
    "offence['ENTICING A MINOR'] = offence['ENTICING A MINOR'] + offence['ENTICING A MINOR                        ']\n",
    "offence['ESCAPE FROM CUSTODY'] = offence['ESCAPE FROM CUSTODY'] + offence['ESCAPE FROM CUSTODY                     ']\n",
    "offence['FAILURE TO OBEY AN OFFICER'] = offence['FAILURE TO OBEY AN OFFICER'] + offence['FAILURE TO OBEY AN OFFICER              ']\n",
    "offence['FALSELY REPORTING INCIDENT'] = offence['FALSELY REPORTING INCIDENT'] + offence['FALSELY REPORTING INCIDENT              ']\n",
    "offence['HOME INVASION'] = offence['HOME INVASION'] + offence['HOME INVASION                           ']\n",
    "offence['ILLEGAL USE OF CREDIT CARD'] = offence['ILLEGAL USE OF CREDIT CARD'] + offence['ILLEGAL USE OF CREDIT CARD              ']\n",
    "offence['INTERFERENCE WITH SEARCH'] = offence['INTERFERENCE WITH SEARCH'] + offence['INTERFERENCE WITH SEARCH                ']\n",
    "offence['INTERSTATE CUSTODY COMPACT'] = offence['INTERSTATE CUSTODY COMPACT'] + offence['INTERSTATE CUSTODY COMPACT              ']\n",
    "offence['ISSUING A BAD CHECK'] = offence['ISSUING A BAD CHECK'] + offence['ISSUING A BAD CHECK                     ']\n",
    "offence['LARCENY DEFINED'] = offence['LARCENY DEFINED'] + offence['LARCENY DEFINED                         ']\n",
    "offence['OPERATE UNDER INFLU OF LIQ OR DRUGS'] = offence['OPERATE UNDER INFLU OF LIQ OR DRUGS'] + offence['OPERATE UNDER INFLU OF LIQ OR DRUGS     ']\n",
    "offence['POSS OF ASSAULT WEAPON PROHIBITED'] = offence['POSS OF ASSAULT WEAPON PROHIBITED'] + offence['POSS OF ASSAULT WEAPON PROHIBITED       ']\n",
    "offence['POSSESS OF LT 4 OZ MJ OR CONTROLD SUB'] = offence['POSSESS OF LT 4 OZ MJ OR CONTROLD SUB'] + offence['POSSESS OF LT 4 OZ MJ OR CONTROLD SUB   ']\n",
    "offence['POSSESSION OF NARCOTICS'] = offence['POSSESSION OF NARCOTICS'] + offence['POSSESSION OF NARCOTICS                 ']\n",
    "offence['PROHIB ACTS RE: CONTROLLED SUBSTANCES'] = offence['PROHIB ACTS RE: CONTROLLED SUBSTANCES'] + offence['PROHIB ACTS RE: CONTROLLED SUBSTANCES   ']\n",
    "offence['PROHIBITED ACTIVITIES'] = offence['PROHIBITED ACTIVITIES'] + offence['PROHIBITED ACTIVITIES                   ']\n",
    "offence['REGULATION OF RESTRICTED SUBSTANCES'] = offence['REGULATION OF RESTRICTED SUBSTANCES'] + offence['REGULATION OF RESTRICTED SUBSTANCES     ']\n",
    "offence['ROBBERY BY CARJACKING'] = offence['ROBBERY BY CARJACKING'] + offence['ROBBERY BY CARJACKING                   ']\n",
    "offence['ROBBERY, FIRST DEGREE                 BF'] = offence['ROBBERY, FIRST DEGREE                 BF'] + offence['ROBBERY, FIRST DEGREE                BF'] + offence['ROBBERY, FIRST DEGREE                BF ']\n",
    "offence['SALE OF HEROIN, COC BY NON-DEPENDENT'] = offence['SALE OF HEROIN, COC BY NON-DEPENDENT'] + offence['SALE OF HEROIN, COC BY NON-DEPENDENT    ']\n",
    "offence['SALE, CARRY & BRAND OF FACSIMILE'] = offence['SALE, CARRY & BRAND OF FACSIMILE'] + offence['SALE, CARRY & BRAND OF FACSIMILE        ']\n",
    "offence['STRANGULATION 3RD DEGREE'] = offence['STRANGULATION 3RD DEGREE'] + offence['STRANGULATION 3RD DEGREE                ']\n",
    "offence['USING MOTOR VEHICLE W/O PERMISSION'] = offence['USING MOTOR VEHICLE W/O PERMISSION'] + offence['USING MOTOR VEHICLE W/O PERMISSION      ']\n",
    "offence['VIOLATION OF CONDITIONS OF RELEASE'] = offence['VIOLATION OF CONDITIONS OF RELEASE'] + offence['VIOLATION OF CONDITIONS OF RELEASE      ']\n",
    "offence['VIOLATION OF PROBATION OR COND DISCHG'] = offence['VIOLATION OF PROBATION OR COND DISCHG'] + offence['VIOLATION OF PROBATION OR COND DISCHG   ']\n",
    "offence['VOYEURISM'] = offence['VOYEURISM'] + offence['VOYEURISM                               ']\n",
    "offence['YOUTHFUL OFFENDER'] = offence['YOUTHFUL OFFENDER'] + offence['YOUTHFUL OFFENDER                       ']\n",
    "\n",
    "# now we drop all the excess categories \n",
    "# AND one of the categories to fix linear dependence\n",
    "offence.drop(\n",
    "    [\n",
    "        '53A021', # this is the dependence one\n",
    "        'ALTERNATE PENALTY FOR DRUG SALES        ',\n",
    "        'APPLICATION TO PURCHASE A FIREARM       ',\n",
    "        'CARRY PIST/RVOLV W/O PERMIT             ',\n",
    "        'CARRYING OR SALE OF DANGEROUS WEAPON    ',\n",
    "        'CHEATING AT GAMBLING                    ',\n",
    "        'CONSPIRACY                              ',\n",
    "        'CREDIT CARD THEFT                       ',\n",
    "        'CRIMINAL ATTEMPT                        ',\n",
    "        'CRIMINAL LIABILITY FOR ANOTHER PERSON   ',\n",
    "        'CRUELTY TO ANIMALS                      ',\n",
    "        'CRUELTY TO PERSONS                      ',\n",
    "        'DRIVING WHILE LICENSE SUSP FOR DWI      ',\n",
    "        'DRUGS NEAR PROBIBITED PLACE             ',\n",
    "        'ENTICING A MINOR                        ',\n",
    "        'ESCAPE FROM CUSTODY                     ',\n",
    "        'FAILURE TO OBEY AN OFFICER              ',\n",
    "        'FALSELY REPORTING INCIDENT              ',\n",
    "        'HOME INVASION                           ',\n",
    "        'ILLEGAL USE OF CREDIT CARD              ',\n",
    "        'INTERFERENCE WITH SEARCH                ',\n",
    "        'INTERSTATE CUSTODY COMPACT              ',\n",
    "        'ISSUING A BAD CHECK                     ',\n",
    "        'LARCENY DEFINED                         ',\n",
    "        'OPERATE UNDER INFLU OF LIQ OR DRUGS     ',\n",
    "        'POSS OF ASSAULT WEAPON PROHIBITED       ',\n",
    "        'POSSESS OF LT 4 OZ MJ OR CONTROLD SUB   ',\n",
    "        'POSSESSION OF NARCOTICS                 ',\n",
    "        'PROHIB ACTS RE: CONTROLLED SUBSTANCES   ',\n",
    "        'PROHIBITED ACTIVITIES                   ',\n",
    "        'REGULATION OF RESTRICTED SUBSTANCES     ',\n",
    "        'ROBBERY BY CARJACKING                   ',\n",
    "        'ROBBERY, FIRST DEGREE                BF',\n",
    "        'ROBBERY, FIRST DEGREE                BF ',\n",
    "        'SALE OF HEROIN, COC BY NON-DEPENDENT    ',\n",
    "        'SALE, CARRY & BRAND OF FACSIMILE        ',\n",
    "        'STRANGULATION 3RD DEGREE                ',\n",
    "        'USING MOTOR VEHICLE W/O PERMISSION      ',\n",
    "        'VIOLATION OF CONDITIONS OF RELEASE      ',\n",
    "        'VIOLATION OF PROBATION OR COND DISCHG   ',\n",
    "        'VOYEURISM                               ',\n",
    "        'YOUTHFUL OFFENDER                       '\n",
    "    ], axis=1, inplace=True\n",
    ")"
   ]
  },
  {
   "cell_type": "code",
   "execution_count": null,
   "metadata": {},
   "outputs": [],
   "source": []
  },
  {
   "cell_type": "code",
   "execution_count": null,
   "metadata": {
    "scrolled": false
   },
   "outputs": [],
   "source": [
    "# for i,item in enumerate(offence.columns):\n",
    "# #     print(item)\n",
    "#     if i == len(offence.columns)-1:\n",
    "#         continue\n",
    "#     if item == offence.columns[i+1][:len(item)]:\n",
    "#         print(item)\n",
    "# #     print(item == offence.columns[i+1][:len(item)])"
   ]
  },
  {
   "cell_type": "code",
   "execution_count": null,
   "metadata": {},
   "outputs": [],
   "source": []
  }
 ],
 "metadata": {
  "kernelspec": {
   "display_name": "Python 3",
   "language": "python",
   "name": "python3"
  },
  "language_info": {
   "codemirror_mode": {
    "name": "ipython",
    "version": 3
   },
   "file_extension": ".py",
   "mimetype": "text/x-python",
   "name": "python",
   "nbconvert_exporter": "python",
   "pygments_lexer": "ipython3",
   "version": "3.7.5"
  }
 },
 "nbformat": 4,
 "nbformat_minor": 2
}
