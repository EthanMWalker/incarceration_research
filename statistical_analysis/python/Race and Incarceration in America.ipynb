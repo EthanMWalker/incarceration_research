{
 "cells": [
  {
   "cell_type": "code",
   "execution_count": 1,
   "metadata": {
    "tags": [
     "hide_input"
    ]
   },
   "outputs": [],
   "source": [
    "import pandas as pd\n",
    "import numpy as np\n",
    "import scipy.linalg as la\n",
    "import scipy.stats as stats\n",
    "# import statsmodels.api as sm\n",
    "from sklearn import linear_model, model_selection, metrics\n",
    "import sklearn\n",
    "import plotly.graph_objs as go\n",
    "import matplotlib.pyplot as plt\n",
    "import pprint"
   ]
  },
  {
   "cell_type": "code",
   "execution_count": 2,
   "metadata": {
    "tags": [
     "hide_input"
    ]
   },
   "outputs": [],
   "source": [
    "import warnings\n",
    "warnings.filterwarnings('ignore')"
   ]
  },
  {
   "cell_type": "markdown",
   "metadata": {},
   "source": [
    "# Introduction\n",
    "\n",
    "The United States' criminal justice system is a large complicated machine that seeks to deliver justice when an offense has been committed. This system has been slowly evolving as our society and culture have been changing. Many things that Americans take as natural in our criminal justice systems are quite abnormal among justice systems worldwide. Since the 1990s, America has seen a drastic increase in the incarcerated population, despite a sharp decrease in crime [[1](https://www.nytimes.com/2008/04/23/world/americas/23iht-23prison.12253738.html)]. Many Americans may believe that this drastic increase in incarceration is a result of increased rates of crime, and that this heightened rate is natural and just. To many, it is unclear who is most affected by this drastic change in the application of justice in America, and even more unclear is how they are so affected.\n",
    "\n",
    "There is a lot of existing research exploring incarceration and the criminal justice system. There is a consensus that America incarcerates a larger proportion of its population than any other nation and that people of color are disproportionately affected by this high incarceration rate [[2](https://www.nytimes.com/2008/04/23/world/americas/23iht-23prison.12253738.html)].\n",
    "\n",
    "In this project I am interested in exploring the ways in which the law is being applied differently to people in America. I will explore different ways to quantify claims about mass incarceration and racial bias. I will also be examining things that factor into sentence length including the offense committed and race. There are many things that contribute to sentence length, however the scope of this project is limited to these factors."
   ]
  },
  {
   "cell_type": "markdown",
   "metadata": {},
   "source": [
    "# Data\n",
    "## Source and Credibility\n",
    "The data that I will be using in this analysis is gathered from primarily two sources. The first is the Bureau of Justice Statistics and the second is a link to a [database](https://catalog.data.gov/dataset/sentenced-inmates-in-correctional-facilities) hosted on [Data.gov](https://www.data.gov) and maintained by the State of Connecticut Department of Corrections. These are highly credible sources because they are primary sources for the data. These organizations are official government agencies which collect, maintain, and report on this data.\n",
    "\n",
    "## Gathering and Cleaning\n",
    "All the data which I am using in this report are freely available to the public. Collection and cleaning was relatively simple as the source data was well maintained. The data that I collected from the Bureau of Justice Statistics (BJS) needed to be formatted in a way that is easily read by the Python packages I will be using. This data was prepared in .xlsx files as to be easily human readable, however this is not generally easily ingested by programs. I extracted data that I found to be relevant into separate .csv files and kept the original files for reference. The files are\n",
    "```\n",
    "incarceration_counts.csv\n",
    "incarceration_by_race.csv\n",
    "crime_data.csv.\n",
    "```\n",
    "\n",
    "The file that I obtained from the Connecticut Department of Corrections is a very well maintained database. The largest issue I had with this file was mild inconsistency with the way in which certain data was encoded (ex. race was encoded as both `WHITE` and `WHITE\\t`). This was the data that I spent the most time working to engineer as it is a data set that I intend to use for different regression-related analyses. The files are\n",
    "```\n",
    "individuals.csv\n",
    "regression_df.csv.\n",
    "\n",
    "```"
   ]
  },
  {
   "cell_type": "markdown",
   "metadata": {},
   "source": [
    "## Contents\n",
    "### Bureau of Justice Statistics Data\n",
    "Here I will describe generally each data file and its contents, as well as give a small sample from each file [3,4,5]."
   ]
  },
  {
   "cell_type": "code",
   "execution_count": 3,
   "metadata": {
    "tags": [
     "hide_input"
    ]
   },
   "outputs": [],
   "source": [
    "incar = pd.read_csv('../data/incarceration_trends.csv')\n",
    "race = pd.read_csv('../data/incarceration_by_race.csv')\n",
    "crime = pd.read_csv('../data/crime_data.csv')"
   ]
  },
  {
   "cell_type": "markdown",
   "metadata": {},
   "source": [
    "First we will examine `incarceration_trends.csv`.\n",
    "This data set records total jail and prison populations across the United States over time. This is useful in understanding general trends in the U.S. over time. The prison population columns are raw populations of incarcerated individuals while the \"population\" column is the U.S. population in millions for that year."
   ]
  },
  {
   "cell_type": "code",
   "execution_count": 4,
   "metadata": {
    "tags": [
     "hide_input"
    ]
   },
   "outputs": [
    {
     "name": "stdout",
     "output_type": "stream",
     "text": [
      "    Year  State prisons  Population\n",
      "24  1949         146881      149.19\n",
      "61  1986         485553      240.13\n",
      "75  2000        1209130      282.16\n"
     ]
    }
   ],
   "source": [
    "print(incar[['Year','State prisons','Population']].sample(3))"
   ]
  },
  {
   "cell_type": "markdown",
   "metadata": {},
   "source": [
    "`incarceration_by_race.csv` contains race demographic data for incarcerated populations by institution. This will allow us to understand state incarcerated populations."
   ]
  },
  {
   "cell_type": "code",
   "execution_count": 5,
   "metadata": {
    "tags": [
     "hide_input"
    ]
   },
   "outputs": [
    {
     "name": "stdout",
     "output_type": "stream",
     "text": [
      "       Geography  Total  White  Black  White_rate  Black_rate\n",
      "42  South Dakota   6327   3708    476         530        4663\n",
      "3        Arizona  67767  36160   8246         775        3184\n"
     ]
    }
   ],
   "source": [
    "race['White_rate']\n",
    "cols = ['Geography','Total','White','Black','White_rate','Black_rate']\n",
    "print(race[cols].sample(2))\n"
   ]
  },
  {
   "cell_type": "markdown",
   "metadata": {},
   "source": [
    "`crime_data.csv` records crime rates over time in this U.S. This data set will help us understand how crime relates to incarceration. The rates are given in offense per 100,000."
   ]
  },
  {
   "cell_type": "code",
   "execution_count": 6,
   "metadata": {
    "tags": [
     "hide_input"
    ]
   },
   "outputs": [
    {
     "name": "stdout",
     "output_type": "stream",
     "text": [
      "    Year  Violent crime  Murder  Rape  Robbery  Assault\n",
      "46  2006          473.6     5.8  31.6    150.0    292.0\n",
      "37  1997          611.0     6.8  35.9    186.2    382.1\n",
      "9   1969          328.7     7.3  18.5    148.4    154.5\n"
     ]
    }
   ],
   "source": [
    "cols = ['Year','Violent crime','Murder','Rape','Robbery','Assault']\n",
    "print(crime[cols].sample(3))"
   ]
  },
  {
   "cell_type": "markdown",
   "metadata": {},
   "source": [
    "### Connecticut Department of Corrections Data"
   ]
  },
  {
   "cell_type": "markdown",
   "metadata": {},
   "source": [
    "This data set contains individual information for 7.77 million people that have been processed by the justice system and recorded by the Connecticut Department of Corrections. Each individual is recorded along with their age, gender, race, offense, and sentence length, among other things [6].\n",
    "\n",
    "I also created one-hot encoded versions of this data set in order to run regressions on the data. Because of the size of the data, the regression data sets are only random subsets of the larger data set.\n",
    "\n",
    "Because there is so much to consider in what is found in the data set, I chose not to engineer more features as to avoid unneeded complexity."
   ]
  },
  {
   "cell_type": "code",
   "execution_count": 5,
   "metadata": {
    "tags": [
     "hide_input"
    ]
   },
   "outputs": [],
   "source": [
    "inmates = pd.read_csv('../data/individuals.csv')\n",
    "race_regr_df = pd.read_csv('../data/race_regression_df.csv')"
   ]
  },
  {
   "cell_type": "code",
   "execution_count": 8,
   "metadata": {
    "tags": [
     "hide_input"
    ]
   },
   "outputs": [
    {
     "name": "stdout",
     "output_type": "stream",
     "text": [
      "        LATEST ADMISSION DATE  AGE   RACE  SENTENCE DAYS\n",
      "4149965            06/22/2018   29  WHITE            731\n",
      "7570861            01/31/2019   34  WHITE            548\n",
      "3340323            02/02/2018   43  WHITE            548\n"
     ]
    }
   ],
   "source": [
    "cols = ['LATEST ADMISSION DATE','AGE','RACE','SENTENCE DAYS']\n",
    "print(inmates[cols].sample(3))"
   ]
  },
  {
   "cell_type": "markdown",
   "metadata": {},
   "source": [
    "We ought to disclose the sample sizes among different races that are found in the Connecticut Department of Justice data. The sample size for American Indians and Asians is much smaller than that of Whites, Hispanics, and Blacks, hence we may see some irregular outcomes in the analysis related to these racial groups."
   ]
  },
  {
   "cell_type": "code",
   "execution_count": 6,
   "metadata": {
    "tags": [
     "hide_input"
    ]
   },
   "outputs": [
    {
     "name": "stdout",
     "output_type": "stream",
     "text": [
      "Sample size for Blacks: 3287596\n",
      "Sample size for Whites: 2393949\n",
      "Sample size for Hispanic: 2039297\n",
      "Sample size for American Indian: 21133\n",
      "Sample size for Asian: 35660\n"
     ]
    }
   ],
   "source": [
    "races = {'BLACK':'Blacks','WHITE':'Whites',\n",
    "         'HISPANIC':'Hispanic','AMER IND':'American Indian',\n",
    "         'ASIAN':'Asian'\n",
    "        }\n",
    "for rac in races.keys():\n",
    "    mask = inmates.RACE == rac\n",
    "    print(f'Sample size for {races[rac]}: {len(inmates[mask])}')"
   ]
  },
  {
   "cell_type": "markdown",
   "metadata": {},
   "source": [
    "# Analysis and Visualization\n",
    "## Increased Rates\n",
    "Here we can see the drastic increase of the amount of incarceration in the U.S. Something that is interesting to note is that jails are defined as places for people who have a sentence less than 1 year, or who are awaiting trial. So we see that at its peak in 2008, there were more people awaiting trial than there were being held in federal prison in 1991.\n",
    "\n",
    "Here I have incarceration rates plotted against the violent crime rate in the United States. Near the beginning of the crime rate data we might assume some amount of inaccuracy, since the crime rate seems to be less than the incarceration rate, however there is an indisputable spike in crime rates in the 1980s and 1990s. Something to note is that the incarceration rate seems to lag behind about 20 years. Another thing to note is that there has been a strict decrease in violent crime (and in all crime) since the 90s, however we do not see the same decrease in the incarceration rate.\n",
    "\n",
    "Some would argue that we see this decrease in crime because of the increase of incarceration. I would disagree. Consider the scales of the different curves we see on the chart. Both are in terms of the rate per 100,000, but the crime rate is more than 200 times higher than the incarceration rate in state prisons. Unless 0.5% of people who committed crime in the 90s were committing more than half of all crime, I would argue that there is some other cause for the decrease in crime rates."
   ]
  },
  {
   "cell_type": "code",
   "execution_count": 28,
   "metadata": {
    "tags": [
     "hide_input"
    ]
   },
   "outputs": [
    {
     "data": {
      "image/png": "[encoded data removed]",
      "text/plain": [
       "<Figure size 720x360 with 2 Axes>"
      ]
     },
     "metadata": {
      "needs_background": "light"
     },
     "output_type": "display_data"
    }
   ],
   "source": [
    "fig, ax = plt.subplots(figsize=(10,5))\n",
    "ax.plot(\n",
    "    incar['Year'].values,\n",
    "    incar['State prisons'].values / (incar.Population*10**4),\n",
    "    label='State Prisons', color='tab:blue')\n",
    "\n",
    "ax.plot(\n",
    "    incar['Year'].values,\n",
    "    incar['Local jails'].values / (incar.Population*10**4),\n",
    "    label='Local Jails', color='tab:orange')\n",
    "ax2 = ax.twinx()\n",
    "ax2.plot(\n",
    "    crime.Year, crime['Violent crime'],\n",
    "    label='violent crime', color='tab:red'\n",
    ")\n",
    "ax2.set_ylabel('rate per 100,000')\n",
    "ax2.legend()\n",
    "ax.legend()\n",
    "ax.set_title('Incarceration and Crime Trends Over Time')\n",
    "ax.set_xlabel('Year')\n",
    "ax.set_ylabel('rate per 100,000')\n",
    "plt.savefig('../tex/images/incar_trends.pdf',dpi=100)\n",
    "plt.show()"
   ]
  },
  {
   "cell_type": "markdown",
   "metadata": {},
   "source": [
    "## Artifacts of Prison Policy\n",
    "One might expect sentence lengths to be distributed somewhat smoothly. However there are standard sentence lengths and mandatory minimum sentences that influence the distribution of sentence lenghts, making the distribution not smooth."
   ]
  },
  {
   "cell_type": "code",
   "execution_count": 29,
   "metadata": {
    "tags": [
     "hide_input"
    ]
   },
   "outputs": [
    {
     "data": {
      "image/png": "[encoded data removed]",
      "text/plain": [
       "<Figure size 720x360 with 1 Axes>"
      ]
     },
     "metadata": {
      "needs_background": "light"
     },
     "output_type": "display_data"
    }
   ],
   "source": [
    "fig, ax = plt.subplots(1, figsize=(10,5))\n",
    "ax.set_xlim(0,10000)\n",
    "mask = inmates['SENTENCE DAYS'] < 10000\n",
    "ax.hist(\n",
    "    inmates['SENTENCE DAYS'][mask].values,\n",
    "    bins=200\n",
    ")\n",
    "plt.xlabel('sentence length in days')\n",
    "plt.title('Distribution of Sentence Lengths')\n",
    "plt.savefig('../tex/images/sent_dist.pdf',dpi=100)\n",
    "plt.show()"
   ]
  },
  {
   "cell_type": "markdown",
   "metadata": {},
   "source": [
    "## Racial Disparities\n",
    "In this section we will explore how the criminal justice system affects people of different races.\n",
    "\n",
    "### Incarceration Disparity\n",
    "These simple histograms, which plot the incarceration rates of Whites, Blacks, Hispanics, and Asians among the 50 states, show the huge racial disparity in incarceration in America. By incarceration rate we mean: of 100,000 people of a given race, how many are incarcerated? A simple examination of the x-axis, which is rate of incarceration shows that the histogram for Whites barely overlaps with the histograms for Blacks and Hispanics. This means that in states with a low incarceration rate for Blacks, the Black incarceration rate is higher than the highest rates seen among Whites."
   ]
  },
  {
   "cell_type": "code",
   "execution_count": 30,
   "metadata": {
    "tags": [
     "hide_input"
    ]
   },
   "outputs": [
    {
     "data": {
      "image/png": "[encoded data removed]",
      "text/plain": [
       "<Figure size 720x504 with 4 Axes>"
      ]
     },
     "metadata": {
      "needs_background": "light"
     },
     "output_type": "display_data"
    }
   ],
   "source": [
    "fig, ax = plt.subplots(2,2, figsize=(10,7))\n",
    "ax[0,0].hist(race['White_rate'])\n",
    "ax[0,0].set_title('White Incarceration Rates')\n",
    "ax[0,0].set_xlabel('rate per 100,000')\n",
    "\n",
    "ax[0,1].hist(race['Black_rate'], color='tab:orange')\n",
    "ax[0,1].set_title('Black Incarceration Rates')\n",
    "ax[0,1].set_xlabel('rate per 100,000')\n",
    "\n",
    "ax[1,0].hist(race['Hisp_rate'], color='tab:green')\n",
    "ax[1,0].set_title('Hispanic Incarceration Rates')\n",
    "ax[1,0].set_xlabel('rate per 100,000')\n",
    "\n",
    "ax[1,1].hist(race['Asian_rate'], color='tab:gray')\n",
    "ax[1,1].set_title('Asian Incarceration Rates')\n",
    "ax[1,1].set_xlabel('rate per 100,000')\n",
    "fig.tight_layout()\n",
    "plt.savefig('../tex/images/state_incar_rates.pdf',dpi=100)\n",
    "plt.show()"
   ]
  },
  {
   "cell_type": "markdown",
   "metadata": {},
   "source": [
    "### Distribution of Sentence Lengths\n",
    "The next aspect we will explore in this section is the distribution of sentence lengths among people of different races. Here we are using the data of more than 7.7 million individuals processed by the criminal justice system. The medians are comparable on the scale at which sentence length is given. Asians and American Indians have the longest median sentence length, however the standard deviation in their sentence lengths is much less than what is seen in the other racial groups. I would attribute this to the low sample size of Asians and American Indians."
   ]
  },
  {
   "cell_type": "code",
   "execution_count": 18,
   "metadata": {
    "tags": [
     "hide_input"
    ]
   },
   "outputs": [
    {
     "name": "stdout",
     "output_type": "stream",
     "text": [
      "Median sentence lengths:\n",
      " RACE\n",
      "AMER IND    2192\n",
      "ASIAN       2557\n",
      "BLACK       1826\n",
      "HISPANIC    1826\n",
      "WHITE       1461\n",
      "Name: SENTENCE DAYS, dtype: int64\n",
      "\n",
      "\n",
      "Standard deviation of sentence lengths:\n",
      " RACE\n",
      "AMER IND     3208.584729\n",
      "ASIAN        5122.011265\n",
      "BLACK       37306.146883\n",
      "HISPANIC    35763.282330\n",
      "WHITE       46882.705552\n",
      "Name: SENTENCE DAYS, dtype: float64\n"
     ]
    }
   ],
   "source": [
    "races = inmates.groupby(by='RACE')\n",
    "print(\n",
    "    'Median sentence lengths:\\n {}'.format(races['SENTENCE DAYS'].median())\n",
    ")\n",
    "print('\\n')\n",
    "print(\n",
    "    'Standard deviation of sentence lengths:\\n {}'.format(races['SENTENCE DAYS'].std())\n",
    ")"
   ]
  },
  {
   "cell_type": "markdown",
   "metadata": {},
   "source": [
    "This box plot is where we begin to see the disparity in the way people of different races are sentenced. While the first two quartiles of each racial group's sentence lengths are similar, we see that the top two quartiles vary widely."
   ]
  },
  {
   "cell_type": "code",
   "execution_count": 8,
   "metadata": {
    "tags": [
     "hide_input"
    ]
   },
   "outputs": [
    {
     "data": {
      "image/png": "[encoded data removed]",
      "text/plain": [
       "<Figure size 720x504 with 1 Axes>"
      ]
     },
     "metadata": {
      "needs_background": "light"
     },
     "output_type": "display_data"
    }
   ],
   "source": [
    "fig, ax = plt.subplots(1, figsize=(10,7))\n",
    "ax.set_xlim(-50,20000)\n",
    "bp = inmates.boxplot(\n",
    "    ['SENTENCE DAYS'], by=['RACE'],\n",
    "    vert=False, grid=False,\n",
    "    ax=ax\n",
    ")\n",
    "ax.set_title('distribution of sentence lengths')\n",
    "ax.set_xlabel('sentence length in days')\n",
    "plt.savefig('../tex/images/sentence_boxplot',dpi=300)\n",
    "plt.show()"
   ]
  },
  {
   "cell_type": "markdown",
   "metadata": {},
   "source": [
    "The following histograms will assist us in understanding these distributions."
   ]
  },
  {
   "cell_type": "code",
   "execution_count": 32,
   "metadata": {
    "tags": [
     "hide_input"
    ]
   },
   "outputs": [
    {
     "data": {
      "image/png": "[encoded data removed]",
      "text/plain": [
       "<Figure size 576x360 with 6 Axes>"
      ]
     },
     "metadata": {
      "needs_background": "light"
     },
     "output_type": "display_data"
    }
   ],
   "source": [
    "fig, ax = plt.subplots(3,2, figsize=(8,5))\n",
    "indexer = {\n",
    "    (0,0):'BLACK',\n",
    "    (0,1):'WHITE',\n",
    "    (1,0):'ASIAN',\n",
    "    (1,1):'HISPANIC',\n",
    "    (2,0):'AMER IND'\n",
    "}\n",
    "for key in indexer.keys():\n",
    "    ax[key].set_xlim(-50,20000)\n",
    "    mask = races.get_group(indexer[key])['SENTENCE DAYS'] < 20000\n",
    "    ax[key].hist(\n",
    "        races.get_group(indexer[key])['SENTENCE DAYS'][mask],\n",
    "        bins=50\n",
    "    )\n",
    "    ax[key].set_xlabel('distribution of sentence length in days')\n",
    "    ax[key].set_title(indexer[key])\n",
    "\n",
    "fig.tight_layout()\n",
    "plt.savefig('../tex/images/race_sentence_dist.pdf',dpi=100)\n",
    "plt.show()"
   ]
  },
  {
   "cell_type": "markdown",
   "metadata": {},
   "source": [
    "While it may appear that these sentences are distributed fairly equivalently, we can examine the kurtosis of the distribution to understand how much of the weight of the distribution is found in the extremities. Groups with high kurtosis have a higher probability of receiving a sentence that is far from the mean [[7](https://www.tandfonline.com/doi/full/10.1080/00031305.2014.917055?scroll=top&needAccess=true)].\n",
    "\n",
    "As we can see, Blacks and Hispanics have the greatest kurtosis, meaning they are much more likely to receive an extreme sentence length. It is difficult to explain the small kurtosis in American Indians and Asians because of the small sample size."
   ]
  },
  {
   "cell_type": "code",
   "execution_count": 16,
   "metadata": {
    "tags": [
     "hide_input"
    ]
   },
   "outputs": [
    {
     "name": "stdout",
     "output_type": "stream",
     "text": [
      "White Kurtosis: 54.01344161453346\n",
      "Black Kurtosis: 86.11479232153843\n",
      "Hispanic Kurtosis: 96.03075354970996\n",
      "American Indian Kurtosis: 4.0085627062942955\n",
      "Asian Kurtosis: 7.45297417968173\n"
     ]
    }
   ],
   "source": [
    "out = '{} Kurtosis: {}'\n",
    "kurts = {\n",
    "    'White':\n",
    "    stats.kurtosis(races.get_group('WHITE')['SENTENCE DAYS']),\n",
    "    'Black':\n",
    "    stats.kurtosis(races.get_group('BLACK')['SENTENCE DAYS']),\n",
    "    'Hispanic':\n",
    "    stats.kurtosis(races.get_group('HISPANIC')['SENTENCE DAYS']),\n",
    "    'American Indian':\n",
    "    stats.kurtosis(races.get_group('AMER IND')['SENTENCE DAYS']),\n",
    "    'Asian':\n",
    "    stats.kurtosis(races.get_group('ASIAN')['SENTENCE DAYS']),\n",
    "}\n",
    "\n",
    "for key in kurts.keys():\n",
    "    print(\n",
    "        out.format(key, kurts[key])\n",
    "    )"
   ]
  },
  {
   "cell_type": "markdown",
   "metadata": {},
   "source": [
    "### Predicting Sentence Length\n",
    "As indicated by the regression below, attempting to predict sentence length based only on the race of the offender is not possible. A larger regression, contained in the appendix, shows that a simple linear regression does a decent job with an $R^2$ value of 0.52, when offenses are included as variables in the regression. It is inaccurate to claim that race alone is the biggest predictor of sentence length and unreasonable to claim race is more important than the offense when in comes to sentence length.\n",
    "\n",
    "So how can we explore more deeply the relationship between race and sentence length?"
   ]
  },
  {
   "cell_type": "code",
   "execution_count": 17,
   "metadata": {
    "tags": [
     "hide_input"
    ]
   },
   "outputs": [
    {
     "name": "stdout",
     "output_type": "stream",
     "text": [
      "Regression Results:\n",
      "\n",
      "\tMethod: Least Squares\n",
      "\tR-squared value: 0.03601534317319244\n",
      "\tAIC: 19410096.12270456\n",
      "\tBIC: 19410165.748789284\n"
     ]
    }
   ],
   "source": [
    "race_regr_df.dropna(inplace=True)\n",
    "sentence = race_regr_df['SENTENCE DAYS']\n",
    "race_regr_df.drop(\n",
    "    ['SENTENCE DAYS','Unnamed: 0'], axis=1, inplace=True\n",
    ")\n",
    "X_train, X_test, y_train, y_test = model_selection.train_test_split(\n",
    "    race_regr_df.astype(float), sentence, test_size=.3\n",
    ")\n",
    "res_gen = sm.OLS(y_train, X_train).fit()\n",
    "print('Regression Results:\\n')\n",
    "print(f'\\tMethod: Least Squares')\n",
    "print(f'\\tR-squared value: {res_gen.rsquared}')\n",
    "print(f'\\tAIC: {res_gen.aic}')\n",
    "print(f'\\tBIC: {res_gen.bic}')"
   ]
  },
  {
   "cell_type": "markdown",
   "metadata": {},
   "source": [
    "### Racial Disparity \n",
    "In the following section we will examine only individuals that have committed the same crime. Then, among those individuals we will examine distribution of sentence length. This will show how people of different races are treated differently, when in comparable situations.\n",
    "\n",
    "We will begin by examining the distribution of sentence lengths among offenders convicted of \"criminal liability for another person\"."
   ]
  },
  {
   "cell_type": "code",
   "execution_count": 34,
   "metadata": {
    "tags": [
     "hide_input"
    ]
   },
   "outputs": [
    {
     "data": {
      "image/png": "[encoded data removed]",
      "text/plain": [
       "<Figure size 360x360 with 1 Axes>"
      ]
     },
     "metadata": {
      "needs_background": "light"
     },
     "output_type": "display_data"
    }
   ],
   "source": [
    "race_mask1 = inmates.RACE != 'AMER IND'\n",
    "race_mask2 = inmates.RACE != 'ASIAN'\n",
    "race_mask = np.logical_and(race_mask1,race_mask2)\n",
    "\n",
    "mask = inmates[race_mask]['OFFENSE'] =='CRIMINAL LIABILITY FOR ANOTHER PERSON'\n",
    "\n",
    "fig, ax = plt.subplots(1, figsize=(5,5))\n",
    "ax.set_xlim(-50,80000)\n",
    "bp = inmates[race_mask][mask].boxplot(\n",
    "    ['SENTENCE DAYS'], by=['RACE'],\n",
    "    vert=False, grid=False,\n",
    "    ax=ax\n",
    ")\n",
    "plt.suptitle(\"\")\n",
    "ax.set_title('Distribution of Sentence Lengths for CRIMINAL LIABILITY FOR ANOTHER PERSON')\n",
    "ax.set_xlabel('sentence length in days')\n",
    "plt.savefig('../tex/images/crim_lib_box.pdf',dpi=100)\n",
    "plt.show()"
   ]
  },
  {
   "cell_type": "markdown",
   "metadata": {},
   "source": [
    "Again we can notice that the distributions don't seem to be all that different. However, we can examine kurtosis to see if there is a significant difference between these distributions that is lost in a box plot."
   ]
  },
  {
   "cell_type": "code",
   "execution_count": 32,
   "metadata": {
    "tags": [
     "hide_input"
    ]
   },
   "outputs": [
    {
     "name": "stdout",
     "output_type": "stream",
     "text": [
      "White Kurtosis for\n",
      "\tCRIMINAL LIABILITY FOR ANOTHER PERSON: 12.421485976410926\n",
      "Black Kurtosis for\n",
      "\tCRIMINAL LIABILITY FOR ANOTHER PERSON: 23.752981544095174\n",
      "Hispanic Kurtosis for\n",
      "\tCRIMINAL LIABILITY FOR ANOTHER PERSON: 0.5345890525784038\n"
     ]
    }
   ],
   "source": [
    "mask = inmates[race_mask]['OFFENSE'] == 'CRIMINAL LIABILITY FOR ANOTHER PERSON'\n",
    "\n",
    "\n",
    "out = '{} Kurtosis for\\n\\t{}: {}'\n",
    "kurts = {\n",
    "    'White':\n",
    "    stats.kurtosis(\n",
    "        races.get_group('WHITE')['SENTENCE DAYS'][race_mask][mask]\n",
    "    ),\n",
    "    'Black':\n",
    "    stats.kurtosis(\n",
    "        races.get_group('BLACK')['SENTENCE DAYS'][race_mask][mask]\n",
    "    ),\n",
    "    'Hispanic':\n",
    "    stats.kurtosis(\n",
    "        races.get_group('HISPANIC')['SENTENCE DAYS'][race_mask][mask]\n",
    "    )\n",
    "#     'American Indian':\n",
    "#     stats.kurtosis(races.get_group('AMER IND')['SENTENCE DAYS'][mask]),\n",
    "#     'Asian':\n",
    "#     stats.kurtosis(races.get_group('ASIAN')['SENTENCE DAYS'][mask]),\n",
    "}\n",
    "\n",
    "for key in kurts.keys():\n",
    "    print(\n",
    "        out.format(key, 'CRIMINAL LIABILITY FOR ANOTHER PERSON', kurts[key])\n",
    ")"
   ]
  },
  {
   "cell_type": "markdown",
   "metadata": {},
   "source": [
    "Here it is made clear that Blacks and Hispanics are much more likely to receive an extreme sentence than other racial groups for the crime of criminal liability.\n",
    "\n",
    "Following is a sample of a few offenses, the distributions of sentence lengths, and the kurtosis of those distributions."
   ]
  },
  {
   "cell_type": "code",
   "execution_count": 7,
   "metadata": {
    "scrolled": false,
    "tags": [
     "hide_input"
    ]
   },
   "outputs": [
    {
     "data": {
      "image/png": "[encoded data removed]",
      "text/plain": [
       "<Figure size 432x288 with 1 Axes>"
      ]
     },
     "metadata": {
      "needs_background": "light"
     },
     "output_type": "display_data"
    },
    {
     "ename": "AttributeError",
     "evalue": "'dict' object has no attribute 'get_group'",
     "output_type": "error",
     "traceback": [
      "\u001b[0;31m---------------------------------------------------------------------------\u001b[0m",
      "\u001b[0;31mAttributeError\u001b[0m                            Traceback (most recent call last)",
      "\u001b[0;32m<ipython-input-7-f5b56206d283>\u001b[0m in \u001b[0;36m<module>\u001b[0;34m\u001b[0m\n\u001b[1;32m     35\u001b[0m         \u001b[0;34m'White'\u001b[0m\u001b[0;34m:\u001b[0m\u001b[0;34m\u001b[0m\u001b[0;34m\u001b[0m\u001b[0m\n\u001b[1;32m     36\u001b[0m         stats.kurtosis(\n\u001b[0;32m---> 37\u001b[0;31m             \u001b[0mraces\u001b[0m\u001b[0;34m.\u001b[0m\u001b[0mget_group\u001b[0m\u001b[0;34m(\u001b[0m\u001b[0;34m'WHITE'\u001b[0m\u001b[0;34m)\u001b[0m\u001b[0;34m[\u001b[0m\u001b[0;34m'SENTENCE DAYS'\u001b[0m\u001b[0;34m]\u001b[0m\u001b[0;34m[\u001b[0m\u001b[0mrace_mask\u001b[0m\u001b[0;34m]\u001b[0m\u001b[0;34m[\u001b[0m\u001b[0mmask\u001b[0m\u001b[0;34m]\u001b[0m\u001b[0;34m\u001b[0m\u001b[0;34m\u001b[0m\u001b[0m\n\u001b[0m\u001b[1;32m     38\u001b[0m         ),\n\u001b[1;32m     39\u001b[0m         \u001b[0;34m'Black'\u001b[0m\u001b[0;34m:\u001b[0m\u001b[0;34m\u001b[0m\u001b[0;34m\u001b[0m\u001b[0m\n",
      "\u001b[0;31mAttributeError\u001b[0m: 'dict' object has no attribute 'get_group'"
     ]
    }
   ],
   "source": [
    "# offenses = set(inmates.OFFENSE.sample(5))\n",
    "race_mask1 = inmates.RACE != 'AMER IND'\n",
    "race_mask2 = inmates.RACE != 'ASIAN'\n",
    "race_mask = np.logical_and(race_mask1,race_mask2)\n",
    "offenses = [\n",
    "    'MURDER                                AF',\n",
    "    'SALE OF CONTROLLED SUBSTANCE           F',\n",
    "    'SALE OF HALLUCIGEN/NARCOTIC SUBSTANCE  F',\n",
    "    'ROBBERY, FIRST DEGREE                 BF'\n",
    "#     'CRIMINAL LIABILITY FOR ANOTHER PERSON'\n",
    "]\n",
    "for off in offenses:\n",
    "    \n",
    "    mask = inmates[race_mask]['OFFENSE'] == off\n",
    "    # inmates[mask]['RACE'].sample(10)\n",
    "    fig, ax = plt.subplots(1)\n",
    "    lim = np.percentile(\n",
    "        inmates['SENTENCE DAYS'][race_mask][mask],\n",
    "        98\n",
    "    )\n",
    "    ax.set_xlim(-50,lim)\n",
    "    bp = inmates[race_mask][mask].boxplot(\n",
    "        ['SENTENCE DAYS'], by=['RACE'],\n",
    "        vert=False, grid=False,\n",
    "        ax=ax\n",
    "    )\n",
    "    plt.suptitle(\"\")\n",
    "#     ax.set_title(f'distribution of sentence lengths for {off}')\n",
    "    ax.set_xlabel('sentence length in days')\n",
    "    fig.tight_layout()\n",
    "    plt.savefig(f'../tex/images/{off[:10]}_box.pdf',dpi=100)\n",
    "    plt.show()\n",
    "    out = '{} Kurtosis: {}'\n",
    "    kurts = {\n",
    "        'White':\n",
    "        stats.kurtosis(\n",
    "            races.get_group('WHITE')['SENTENCE DAYS'][race_mask][mask]\n",
    "        ),\n",
    "        'Black':\n",
    "        stats.kurtosis(\n",
    "            races.get_group('BLACK')['SENTENCE DAYS'][race_mask][mask]\n",
    "        ),\n",
    "        'Hispanic':\n",
    "        stats.kurtosis(\n",
    "            races.get_group('HISPANIC')['SENTENCE DAYS'][race_mask][mask]\n",
    "        )\n",
    "#         'American Indian':\n",
    "#         stats.kurtosis(races.get_group('AMER IND')['SENTENCE DAYS'][mask]),\n",
    "#         'Asian':\n",
    "#         stats.kurtosis(races.get_group('ASIAN')['SENTENCE DAYS'][mask]),\n",
    "    }\n",
    "\n",
    "    for key in kurts.keys():\n",
    "        print(\n",
    "            out.format(key, kurts[key])\n",
    "    )"
   ]
  },
  {
   "cell_type": "markdown",
   "metadata": {},
   "source": [
    "Here we can see that in many cases Blacks and Hispanics are treated differently when it comes to sentencing and incarceration."
   ]
  },
  {
   "cell_type": "markdown",
   "metadata": {},
   "source": [
    "# Conclusion\n",
    "\n",
    "The American criminal justice system had been criticized by many. Some claim that it is an extension of slavery, others claim that is biased and broken, while still others claim that it is effective [[8](https://museumandmemorial.eji.org/museum)]. Dozens of organizations study the American prison system with the goal of reforming it, while private, for profit, prisons lobby to maintain the status quo. We have explored a few of the ways in which the American criminal justice system is biased, though understanding the biases is only the first step to formulating sound policy that can affect positive change. I hope the facts and opinions presented in this report become impetus to research further and understand the ways in which American society continues to disenfranchise Americans of color today."
   ]
  }
 ],
 "metadata": {
  "celltoolbar": "Tags",
  "kernelspec": {
   "display_name": "Python 3",
   "language": "python",
   "name": "python3"
  },
  "language_info": {
   "codemirror_mode": {
    "name": "ipython",
    "version": 3
   },
   "file_extension": ".py",
   "mimetype": "text/x-python",
   "name": "python",
   "nbconvert_exporter": "python",
   "pygments_lexer": "ipython3",
   "version": "3.8.5"
  }
 },
 "nbformat": 4,
 "nbformat_minor": 2
}
