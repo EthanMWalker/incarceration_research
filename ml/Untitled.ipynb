{
 "cells": [
  {
   "cell_type": "markdown",
   "metadata": {},
   "source": [
    "# Motivation and Overview\n",
    "### 10/10\n",
    "the motivation is very clear and understandable. I think that I have some impression that it's meant to be related to what ingredients are on hand. but that may not be the case (not sure why I have this impression).\n",
    "\n",
    "Other studies are addressed well\n",
    "\n",
    "\n",
    "# Data\n",
    "### 8/10\n",
    "its a little unclear to me what the original intent of the data was (ie why the people that made it made it).\n",
    "\n",
    "I don't think I understand why the data transformation in 4.1 was done or what it does exactly.\n",
    "\n",
    "# Methods\n",
    "### 19/20\n",
    "description of DBSCAN is a little hard to follow. Either do more detail or more intuition.\n",
    "\n",
    "Maybe be more explicit about each of the different methods you used and their performance.\n",
    "\n",
    "# Analysis\n",
    "### 24/25\n",
    "Everything looks good and clear.\n",
    "\n",
    "# Communication\n",
    "### 17/20\n",
    "There are a few occasions where it is hard to understand what is trying to be expressed. These are commented on above.\n",
    "\n",
    "# Graphics\n",
    "### 10/10\n",
    "These look really god\n",
    "\n",
    "# Knock My Socks Off\n",
    "### 9/10\n",
    "I think that I'm expecially impressed by the invention of this new \"metric\" that measures the success of the model\n",
    "\n",
    "\n",
    "### Total: 97/100"
   ]
  }
 ],
 "metadata": {
  "kernelspec": {
   "display_name": "Python 3",
   "language": "python",
   "name": "python3"
  },
  "language_info": {
   "codemirror_mode": {
    "name": "ipython",
    "version": 3
   },
   "file_extension": ".py",
   "mimetype": "text/x-python",
   "name": "python",
   "nbconvert_exporter": "python",
   "pygments_lexer": "ipython3",
   "version": "3.7.5"
  }
 },
 "nbformat": 4,
 "nbformat_minor": 2
}
