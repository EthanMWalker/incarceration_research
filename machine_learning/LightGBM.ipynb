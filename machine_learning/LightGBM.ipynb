{
 "cells": [
  {
   "cell_type": "code",
   "execution_count": 1,
   "metadata": {},
   "outputs": [],
   "source": [
    "import numpy as np\n",
    "import pandas as pd\n",
    "import matplotlib.pyplot as plt\n",
    "import pickle\n",
    "import time\n",
    "import lightgbm as lgb\n",
    "\n",
    "from sklearn.model_selection import GridSearchCV,train_test_split,cross_val_score"
   ]
  },
  {
   "cell_type": "code",
   "execution_count": 2,
   "metadata": {},
   "outputs": [],
   "source": [
    "cols = ['RACE','GENDER','AGE','OFFENSE','FACILITY','DETAINER','SENTENCE DAYS']\n",
    "features = ['GENDER','AGE','OFFENSE','FACILITY','DETAINER','SENTENCE DAYS']\n",
    "df = pd.read_csv('individuals.csv',usecols=cols)"
   ]
  },
  {
   "cell_type": "code",
   "execution_count": 3,
   "metadata": {},
   "outputs": [],
   "source": [
    "samp = df.sample(20000)\n",
    "samp.RACE = pd.factorize(samp['RACE'])[0] + 1\n",
    "samp.GENDER = pd.factorize(samp['GENDER'])[0] + 1\n",
    "samp.OFFENSE = pd.factorize(samp['OFFENSE'])[0] + 1\n",
    "samp.DETAINER = pd.factorize(samp['DETAINER'])[0] + 1\n",
    "samp.FACILITY = pd.factorize(samp['FACILITY'])[0] + 1\n",
    "samp_y = samp.RACE\n",
    "samp_X = samp[['GENDER','AGE','OFFENSE','FACILITY','DETAINER','SENTENCE DAYS']]"
   ]
  },
  {
   "cell_type": "code",
   "execution_count": 5,
   "metadata": {},
   "outputs": [
    {
     "name": "stdout",
     "output_type": "stream",
     "text": [
      "Fitting 3 folds for each of 25 candidates, totalling 75 fits\n",
      "[CV] reg_alpha=0.1, reg_lambda=0.1 ...................................\n"
     ]
    },
    {
     "name": "stderr",
     "output_type": "stream",
     "text": [
      "[Parallel(n_jobs=1)]: Using backend SequentialBackend with 1 concurrent workers.\n"
     ]
    },
    {
     "name": "stdout",
     "output_type": "stream",
     "text": [
      "[CV] ....... reg_alpha=0.1, reg_lambda=0.1, score=0.559, total= 1.2min\n",
      "[CV] reg_alpha=0.1, reg_lambda=0.1 ...................................\n"
     ]
    },
    {
     "name": "stderr",
     "output_type": "stream",
     "text": [
      "[Parallel(n_jobs=1)]: Done   1 out of   1 | elapsed:  1.2min remaining:    0.0s\n"
     ]
    },
    {
     "name": "stdout",
     "output_type": "stream",
     "text": [
      "[CV] ....... reg_alpha=0.1, reg_lambda=0.1, score=0.576, total=   1.5s\n",
      "[CV] reg_alpha=0.1, reg_lambda=0.1 ...................................\n"
     ]
    },
    {
     "name": "stderr",
     "output_type": "stream",
     "text": [
      "[Parallel(n_jobs=1)]: Done   2 out of   2 | elapsed:  1.2min remaining:    0.0s\n"
     ]
    },
    {
     "name": "stdout",
     "output_type": "stream",
     "text": [
      "[CV] ....... reg_alpha=0.1, reg_lambda=0.1, score=0.575, total=   1.3s\n",
      "[CV] reg_alpha=0.1, reg_lambda=0.325 .................................\n",
      "[CV] ..... reg_alpha=0.1, reg_lambda=0.325, score=0.562, total=  35.7s\n",
      "[CV] reg_alpha=0.1, reg_lambda=0.325 .................................\n",
      "[CV] ..... reg_alpha=0.1, reg_lambda=0.325, score=0.570, total= 1.5min\n",
      "[CV] reg_alpha=0.1, reg_lambda=0.325 .................................\n",
      "[CV] ..... reg_alpha=0.1, reg_lambda=0.325, score=0.571, total=  54.5s\n",
      "[CV] reg_alpha=0.1, reg_lambda=0.55 ..................................\n",
      "[CV] ...... reg_alpha=0.1, reg_lambda=0.55, score=0.560, total= 1.6min\n",
      "[CV] reg_alpha=0.1, reg_lambda=0.55 ..................................\n",
      "[CV] ...... reg_alpha=0.1, reg_lambda=0.55, score=0.567, total= 1.5min\n",
      "[CV] reg_alpha=0.1, reg_lambda=0.55 ..................................\n",
      "[CV] ...... reg_alpha=0.1, reg_lambda=0.55, score=0.574, total=  39.3s\n",
      "[CV] reg_alpha=0.1, reg_lambda=0.775 .................................\n",
      "[CV] ..... reg_alpha=0.1, reg_lambda=0.775, score=0.559, total=   0.7s\n",
      "[CV] reg_alpha=0.1, reg_lambda=0.775 .................................\n",
      "[CV] ..... reg_alpha=0.1, reg_lambda=0.775, score=0.569, total=   0.7s\n",
      "[CV] reg_alpha=0.1, reg_lambda=0.775 .................................\n",
      "[CV] ..... reg_alpha=0.1, reg_lambda=0.775, score=0.571, total=   0.7s\n",
      "[CV] reg_alpha=0.1, reg_lambda=1.0 ...................................\n",
      "[CV] ....... reg_alpha=0.1, reg_lambda=1.0, score=0.554, total=   0.9s\n",
      "[CV] reg_alpha=0.1, reg_lambda=1.0 ...................................\n",
      "[CV] ....... reg_alpha=0.1, reg_lambda=1.0, score=0.569, total=   0.7s\n",
      "[CV] reg_alpha=0.1, reg_lambda=1.0 ...................................\n",
      "[CV] ....... reg_alpha=0.1, reg_lambda=1.0, score=0.574, total=   0.7s\n",
      "[CV] reg_alpha=0.325, reg_lambda=0.1 .................................\n",
      "[CV] ..... reg_alpha=0.325, reg_lambda=0.1, score=0.564, total=   0.7s\n",
      "[CV] reg_alpha=0.325, reg_lambda=0.1 .................................\n",
      "[CV] ..... reg_alpha=0.325, reg_lambda=0.1, score=0.564, total=   0.7s\n",
      "[CV] reg_alpha=0.325, reg_lambda=0.1 .................................\n",
      "[CV] ..... reg_alpha=0.325, reg_lambda=0.1, score=0.573, total=   0.7s\n",
      "[CV] reg_alpha=0.325, reg_lambda=0.325 ...............................\n",
      "[CV] ... reg_alpha=0.325, reg_lambda=0.325, score=0.562, total=   0.8s\n",
      "[CV] reg_alpha=0.325, reg_lambda=0.325 ...............................\n",
      "[CV] ... reg_alpha=0.325, reg_lambda=0.325, score=0.569, total=   0.6s\n",
      "[CV] reg_alpha=0.325, reg_lambda=0.325 ...............................\n",
      "[CV] ... reg_alpha=0.325, reg_lambda=0.325, score=0.572, total=   0.7s\n",
      "[CV] reg_alpha=0.325, reg_lambda=0.55 ................................\n",
      "[CV] .... reg_alpha=0.325, reg_lambda=0.55, score=0.568, total=   0.6s\n",
      "[CV] reg_alpha=0.325, reg_lambda=0.55 ................................\n",
      "[CV] .... reg_alpha=0.325, reg_lambda=0.55, score=0.564, total=   0.7s\n",
      "[CV] reg_alpha=0.325, reg_lambda=0.55 ................................\n",
      "[CV] .... reg_alpha=0.325, reg_lambda=0.55, score=0.572, total=   0.7s\n",
      "[CV] reg_alpha=0.325, reg_lambda=0.775 ...............................\n",
      "[CV] ... reg_alpha=0.325, reg_lambda=0.775, score=0.554, total=   0.7s\n",
      "[CV] reg_alpha=0.325, reg_lambda=0.775 ...............................\n",
      "[CV] ... reg_alpha=0.325, reg_lambda=0.775, score=0.562, total=   0.7s\n",
      "[CV] reg_alpha=0.325, reg_lambda=0.775 ...............................\n",
      "[CV] ... reg_alpha=0.325, reg_lambda=0.775, score=0.573, total=   0.6s\n",
      "[CV] reg_alpha=0.325, reg_lambda=1.0 .................................\n",
      "[CV] ..... reg_alpha=0.325, reg_lambda=1.0, score=0.560, total=   0.7s\n",
      "[CV] reg_alpha=0.325, reg_lambda=1.0 .................................\n",
      "[CV] ..... reg_alpha=0.325, reg_lambda=1.0, score=0.565, total=   0.7s\n",
      "[CV] reg_alpha=0.325, reg_lambda=1.0 .................................\n",
      "[CV] ..... reg_alpha=0.325, reg_lambda=1.0, score=0.568, total=   0.7s\n",
      "[CV] reg_alpha=0.55, reg_lambda=0.1 ..................................\n",
      "[CV] ...... reg_alpha=0.55, reg_lambda=0.1, score=0.561, total=   0.7s\n",
      "[CV] reg_alpha=0.55, reg_lambda=0.1 ..................................\n",
      "[CV] ...... reg_alpha=0.55, reg_lambda=0.1, score=0.563, total=   0.7s\n",
      "[CV] reg_alpha=0.55, reg_lambda=0.1 ..................................\n",
      "[CV] ...... reg_alpha=0.55, reg_lambda=0.1, score=0.570, total=   0.6s\n",
      "[CV] reg_alpha=0.55, reg_lambda=0.325 ................................\n",
      "[CV] .... reg_alpha=0.55, reg_lambda=0.325, score=0.558, total=   0.6s\n",
      "[CV] reg_alpha=0.55, reg_lambda=0.325 ................................\n",
      "[CV] .... reg_alpha=0.55, reg_lambda=0.325, score=0.566, total=   0.9s\n",
      "[CV] reg_alpha=0.55, reg_lambda=0.325 ................................\n",
      "[CV] .... reg_alpha=0.55, reg_lambda=0.325, score=0.568, total=   0.6s\n",
      "[CV] reg_alpha=0.55, reg_lambda=0.55 .................................\n",
      "[CV] ..... reg_alpha=0.55, reg_lambda=0.55, score=0.566, total=   0.7s\n",
      "[CV] reg_alpha=0.55, reg_lambda=0.55 .................................\n",
      "[CV] ..... reg_alpha=0.55, reg_lambda=0.55, score=0.567, total=   0.7s\n",
      "[CV] reg_alpha=0.55, reg_lambda=0.55 .................................\n",
      "[CV] ..... reg_alpha=0.55, reg_lambda=0.55, score=0.574, total=   0.7s\n",
      "[CV] reg_alpha=0.55, reg_lambda=0.775 ................................\n",
      "[CV] .... reg_alpha=0.55, reg_lambda=0.775, score=0.562, total=   0.7s\n",
      "[CV] reg_alpha=0.55, reg_lambda=0.775 ................................\n",
      "[CV] .... reg_alpha=0.55, reg_lambda=0.775, score=0.567, total=   0.7s\n",
      "[CV] reg_alpha=0.55, reg_lambda=0.775 ................................\n",
      "[CV] .... reg_alpha=0.55, reg_lambda=0.775, score=0.575, total=   0.7s\n",
      "[CV] reg_alpha=0.55, reg_lambda=1.0 ..................................\n",
      "[CV] ...... reg_alpha=0.55, reg_lambda=1.0, score=0.562, total=   0.7s\n",
      "[CV] reg_alpha=0.55, reg_lambda=1.0 ..................................\n",
      "[CV] ...... reg_alpha=0.55, reg_lambda=1.0, score=0.569, total=   0.6s\n",
      "[CV] reg_alpha=0.55, reg_lambda=1.0 ..................................\n",
      "[CV] ...... reg_alpha=0.55, reg_lambda=1.0, score=0.571, total=   0.6s\n",
      "[CV] reg_alpha=0.775, reg_lambda=0.1 .................................\n",
      "[CV] ..... reg_alpha=0.775, reg_lambda=0.1, score=0.560, total=   0.7s\n",
      "[CV] reg_alpha=0.775, reg_lambda=0.1 .................................\n",
      "[CV] ..... reg_alpha=0.775, reg_lambda=0.1, score=0.563, total=   0.6s\n",
      "[CV] reg_alpha=0.775, reg_lambda=0.1 .................................\n",
      "[CV] ..... reg_alpha=0.775, reg_lambda=0.1, score=0.570, total=   0.7s\n",
      "[CV] reg_alpha=0.775, reg_lambda=0.325 ...............................\n",
      "[CV] ... reg_alpha=0.775, reg_lambda=0.325, score=0.565, total=   0.6s\n",
      "[CV] reg_alpha=0.775, reg_lambda=0.325 ...............................\n",
      "[CV] ... reg_alpha=0.775, reg_lambda=0.325, score=0.568, total=   0.7s\n",
      "[CV] reg_alpha=0.775, reg_lambda=0.325 ...............................\n",
      "[CV] ... reg_alpha=0.775, reg_lambda=0.325, score=0.573, total=   0.6s\n",
      "[CV] reg_alpha=0.775, reg_lambda=0.55 ................................\n",
      "[CV] .... reg_alpha=0.775, reg_lambda=0.55, score=0.557, total=   0.7s\n",
      "[CV] reg_alpha=0.775, reg_lambda=0.55 ................................\n",
      "[CV] .... reg_alpha=0.775, reg_lambda=0.55, score=0.569, total=   0.6s\n",
      "[CV] reg_alpha=0.775, reg_lambda=0.55 ................................\n",
      "[CV] .... reg_alpha=0.775, reg_lambda=0.55, score=0.568, total=   0.6s\n",
      "[CV] reg_alpha=0.775, reg_lambda=0.775 ...............................\n",
      "[CV] ... reg_alpha=0.775, reg_lambda=0.775, score=0.555, total=   0.7s\n",
      "[CV] reg_alpha=0.775, reg_lambda=0.775 ...............................\n",
      "[CV] ... reg_alpha=0.775, reg_lambda=0.775, score=0.563, total=   0.6s\n",
      "[CV] reg_alpha=0.775, reg_lambda=0.775 ...............................\n",
      "[CV] ... reg_alpha=0.775, reg_lambda=0.775, score=0.564, total=   0.7s\n",
      "[CV] reg_alpha=0.775, reg_lambda=1.0 .................................\n",
      "[CV] ..... reg_alpha=0.775, reg_lambda=1.0, score=0.561, total=   0.7s\n",
      "[CV] reg_alpha=0.775, reg_lambda=1.0 .................................\n",
      "[CV] ..... reg_alpha=0.775, reg_lambda=1.0, score=0.563, total=   0.7s\n",
      "[CV] reg_alpha=0.775, reg_lambda=1.0 .................................\n",
      "[CV] ..... reg_alpha=0.775, reg_lambda=1.0, score=0.565, total=   0.7s\n",
      "[CV] reg_alpha=1.0, reg_lambda=0.1 ...................................\n"
     ]
    },
    {
     "name": "stdout",
     "output_type": "stream",
     "text": [
      "[CV] ....... reg_alpha=1.0, reg_lambda=0.1, score=0.556, total=   0.6s\n",
      "[CV] reg_alpha=1.0, reg_lambda=0.1 ...................................\n",
      "[CV] ....... reg_alpha=1.0, reg_lambda=0.1, score=0.566, total=   0.7s\n",
      "[CV] reg_alpha=1.0, reg_lambda=0.1 ...................................\n",
      "[CV] ....... reg_alpha=1.0, reg_lambda=0.1, score=0.564, total=   0.6s\n",
      "[CV] reg_alpha=1.0, reg_lambda=0.325 .................................\n",
      "[CV] ..... reg_alpha=1.0, reg_lambda=0.325, score=0.560, total=   0.6s\n",
      "[CV] reg_alpha=1.0, reg_lambda=0.325 .................................\n",
      "[CV] ..... reg_alpha=1.0, reg_lambda=0.325, score=0.572, total=   0.6s\n",
      "[CV] reg_alpha=1.0, reg_lambda=0.325 .................................\n",
      "[CV] ..... reg_alpha=1.0, reg_lambda=0.325, score=0.564, total=   0.7s\n",
      "[CV] reg_alpha=1.0, reg_lambda=0.55 ..................................\n",
      "[CV] ...... reg_alpha=1.0, reg_lambda=0.55, score=0.557, total=   0.7s\n",
      "[CV] reg_alpha=1.0, reg_lambda=0.55 ..................................\n",
      "[CV] ...... reg_alpha=1.0, reg_lambda=0.55, score=0.565, total=   0.6s\n",
      "[CV] reg_alpha=1.0, reg_lambda=0.55 ..................................\n",
      "[CV] ...... reg_alpha=1.0, reg_lambda=0.55, score=0.566, total=   0.7s\n",
      "[CV] reg_alpha=1.0, reg_lambda=0.775 .................................\n",
      "[CV] ..... reg_alpha=1.0, reg_lambda=0.775, score=0.555, total=   0.6s\n",
      "[CV] reg_alpha=1.0, reg_lambda=0.775 .................................\n",
      "[CV] ..... reg_alpha=1.0, reg_lambda=0.775, score=0.562, total=   0.7s\n",
      "[CV] reg_alpha=1.0, reg_lambda=0.775 .................................\n",
      "[CV] ..... reg_alpha=1.0, reg_lambda=0.775, score=0.564, total=   0.7s\n",
      "[CV] reg_alpha=1.0, reg_lambda=1.0 ...................................\n",
      "[CV] ....... reg_alpha=1.0, reg_lambda=1.0, score=0.562, total=   0.6s\n",
      "[CV] reg_alpha=1.0, reg_lambda=1.0 ...................................\n",
      "[CV] ....... reg_alpha=1.0, reg_lambda=1.0, score=0.561, total=   0.7s\n",
      "[CV] reg_alpha=1.0, reg_lambda=1.0 ...................................\n",
      "[CV] ....... reg_alpha=1.0, reg_lambda=1.0, score=0.564, total=   0.6s\n"
     ]
    },
    {
     "name": "stderr",
     "output_type": "stream",
     "text": [
      "[Parallel(n_jobs=1)]: Done  75 out of  75 | elapsed:  8.8min finished\n"
     ]
    }
   ],
   "source": [
    "param_grid = {\n",
    "    'reg_alpha': np.linspace(.1,1,5),\n",
    "    'reg_lambda': np.linspace(.1,1,5)\n",
    "}\n",
    "\n",
    "clf = lgb.LGBMClassifier(boosting_type='gbdt', learning_rate=0.23, n_estimators=100)\n",
    "s = time.time()\n",
    "clf = GridSearchCV(clf, param_grid, cv=3, verbose=3)\n",
    "clf = clf.fit(samp_X, samp_y)\n",
    "e = time.time()\n",
    "\n",
    "with open('./pickles/LGBM_fitted_grid1.pickle','wb+') as f:\n",
    "    pickle.dump(clf, f)\n",
    "\n",
    "clf = clf.best_estimator_\n",
    "clf = clf.fit(samp_X, samp_y)\n",
    "\n",
    "\n",
    "with open('./pickles/LGBMClf1.pickle','wb+') as f:\n",
    "    pickle.dump(clf, f)"
   ]
  },
  {
   "cell_type": "code",
   "execution_count": null,
   "metadata": {},
   "outputs": [],
   "source": [
    "print(f'time was {(e-s)/(60*60)} hours')"
   ]
  },
  {
   "cell_type": "code",
   "execution_count": null,
   "metadata": {},
   "outputs": [],
   "source": [
    "samp = df.sample(200000)\n",
    "samp.RACE = pd.factorize(samp['RACE'])[0] + 1\n",
    "samp.GENDER = pd.factorize(samp['GENDER'])[0] + 1\n",
    "samp.OFFENSE = pd.factorize(samp['OFFENSE'])[0] + 1\n",
    "samp.DETAINER = pd.factorize(samp['DETAINER'])[0] + 1\n",
    "samp.FACILITY = pd.factorize(samp['FACILITY'])[0] + 1\n",
    "samp_y = samp.RACE\n",
    "samp_X = samp[['GENDER','AGE','OFFENSE','FACILITY','DETAINER','SENTENCE DAYS']]\n",
    "\n",
    "\n",
    "with open('./pickles/LGBMClf1.pickle','wb+') as f:\n",
    "    clf = pickle.load(f)\n",
    "    clf.score(samp_X, samp_y)"
   ]
  },
  {
   "cell_type": "code",
   "execution_count": 9,
   "metadata": {},
   "outputs": [
    {
     "data": {
      "text/plain": [
       "{'boosting_type': 'gbdt',\n",
       " 'class_weight': None,\n",
       " 'colsample_bytree': 1.0,\n",
       " 'importance_type': 'split',\n",
       " 'learning_rate': 0.23,\n",
       " 'max_depth': 0,\n",
       " 'min_child_samples': 20,\n",
       " 'min_child_weight': 0.001,\n",
       " 'min_split_gain': 0.0,\n",
       " 'n_estimators': 1000,\n",
       " 'n_jobs': -1,\n",
       " 'num_leaves': 31,\n",
       " 'objective': None,\n",
       " 'random_state': None,\n",
       " 'reg_alpha': 0.0,\n",
       " 'reg_lambda': 0.0,\n",
       " 'silent': True,\n",
       " 'subsample': 1.0,\n",
       " 'subsample_for_bin': 200000,\n",
       " 'subsample_freq': 0}"
      ]
     },
     "execution_count": 9,
     "metadata": {},
     "output_type": "execute_result"
    }
   ],
   "source": [
    "clf.get_params()"
   ]
  },
  {
   "cell_type": "code",
   "execution_count": null,
   "metadata": {},
   "outputs": [],
   "source": []
  }
 ],
 "metadata": {
  "kernelspec": {
   "display_name": "Python 3",
   "language": "python",
   "name": "python3"
  },
  "language_info": {
   "codemirror_mode": {
    "name": "ipython",
    "version": 3
   },
   "file_extension": ".py",
   "mimetype": "text/x-python",
   "name": "python",
   "nbconvert_exporter": "python",
   "pygments_lexer": "ipython3",
   "version": "3.7.3"
  }
 },
 "nbformat": 4,
 "nbformat_minor": 2
}
