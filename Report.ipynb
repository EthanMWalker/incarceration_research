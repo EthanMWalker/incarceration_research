{
 "cells": [
  {
   "cell_type": "code",
   "execution_count": 1,
   "metadata": {
    "tags": [
     "hide_input"
    ]
   },
   "outputs": [],
   "source": [
    "import pandas as pd\n",
    "import numpy as np\n",
    "import scipy.linalg as la\n",
    "import scipy.stats as stats\n",
    "import statsmodels.api as sm\n",
    "from sklearn import linear_model, model_selection, metrics\n",
    "import sklearn\n",
    "import plotly.graph_objs as go\n",
    "import matplotlib.pyplot as plt\n",
    "import pprint"
   ]
  },
  {
   "cell_type": "code",
   "execution_count": 2,
   "metadata": {
    "tags": [
     "hide_input"
    ]
   },
   "outputs": [],
   "source": [
    "import warnings\n",
    "warnings.filterwarnings('ignore')"
   ]
  },
  {
   "cell_type": "markdown",
   "metadata": {},
   "source": [
    "# Introduction\n",
    "The united states criminal justice system is large complicated machine that seeks to deliver justice when an offense has been committed. This system has been slowly evolving as our society and culture have changed. Many things that Americans take as natural in our criminal justice systems are quite abnormal among justice systems worldwide. Since the 1990s, America has seen a drastic increase in the incarcerated population. Many Americans believe that this drastic increase in incarceration is a result to increased rates of crime, and that this heightened rate is natural and just. To many it is unclear who is most affected by this drastic change in the application of justice in America. It is also unclear how they are so affected.\n",
    "\n",
    "There is a lot of existing research exploring incarceration and the criminal justice system. There is a consensus that America incarcerates a larger proportion of its population than any other nation and that people of color are disproportionately affected by this high incarceration rate.\n",
    "\n",
    "In this project I am interested in understanding more about the criminal justice system and the ways in which the law is being applied differently to people in America. I will explore different ways to quantify claims about mass incarceration and race. I will also be examining things that factor into sentence length. The factors I will be examining are: offense, age, race, gender, and admission date. There are many things that contribute to sentence length, however the scope of this project is limited to these factors."
   ]
  },
  {
   "cell_type": "markdown",
   "metadata": {},
   "source": [
    "# Data\n",
    "## Source and Credibility\n",
    "The data that I will be using in this analysis is gathered from primarily two sources. The first is the Bureau of Justice Statistics and the second is a link to a [database](https://catalog.data.gov/dataset/sentenced-inmates-in-correctional-facilities) hosted on [Data.gov](https://www.data.gov) and maintained by the State of Connecticut Department of Corrections. These are highly credible sources because they are primary sources for the data. These organizations are official government agencies which collect, maintain, and report on this data.\n",
    "\n",
    "## Gathering and Cleaning\n",
    "All the data which I am using in this report are freely available to the public. Collection and cleaning was relatively simple as the source data was well maintained. The data that I collected from the Bureau of Justice Statistics (BJS) need to be formatted in a way that is easily read by the Python packages I will be using. This data was prepared in .xlsx files as to be easily human readable, however this is not generally easily ingested by programs. I extracted data that I found to be relevant into separate .csv files and kept the original files for reference. The files are\n",
    "```\n",
    "incarceration_counts.csv\n",
    "jail_population.csv\n",
    "jail_trends.csv\n",
    "state_jail_data.csv\n",
    "incarceration_by_race.csv\n",
    "crime_data.csv.\n",
    "```\n",
    "\n",
    "The file that I obtained from the Connecticut Department of Corrections is a very well maintained database. The largest issue I had with this file was mild inconsistency with the way in which certain data was encoded (ex. race was encoded as both `WHITE` and `WHITE\\t`). This was the data that I spent the most time working to engineer as it is the data set that I intend to use for different regression-related analyses. The files are\n",
    "```\n",
    "individuals.csv\n",
    "regression_df.csv.\n",
    "\n",
    "```"
   ]
  },
  {
   "cell_type": "markdown",
   "metadata": {},
   "source": [
    "## Contents\n",
    "### Bureau of Justice Statistics Data\n",
    "Here I will describe generally each data file and its contents, as well as give a small sample from each file"
   ]
  },
  {
   "cell_type": "code",
   "execution_count": 3,
   "metadata": {
    "tags": [
     "remove_cell"
    ]
   },
   "outputs": [],
   "source": [
    "incar = pd.read_csv('incarceration_trends.csv')\n",
    "pop = pd.read_csv('jail_population.csv')\n",
    "trend = pd.read_csv('jail_trends.csv')\n",
    "state = pd.read_csv('state_jail_data.csv')\n",
    "race = pd.read_csv('incarceration_by_race.csv')\n",
    "crime = pd.read_csv('crime_data.csv')"
   ]
  },
  {
   "cell_type": "markdown",
   "metadata": {},
   "source": [
    "First we will examine `incarceration_trends.csv`.\n",
    "This data set records total jail and prison populations across the United States over time. This is useful in understanding general trends in the U.S. over time."
   ]
  },
  {
   "cell_type": "code",
   "execution_count": 4,
   "metadata": {},
   "outputs": [
    {
     "name": "stdout",
     "output_type": "stream",
     "text": [
      "    Year  State prisons  Population\n",
      "14  1939         160088      130.88\n",
      "62  1987         521289      242.29\n",
      "38  1963         194155      189.24\n"
     ]
    }
   ],
   "source": [
    "print(incar[['Year','State prisons','Population']].sample(3))"
   ]
  },
  {
   "cell_type": "markdown",
   "metadata": {},
   "source": [
    "Next is `jail_trends.csv` which has more information about the breakdown of the populations of United States prisons and jails. However the data is more infrequent that that of `incarceration_trends.csv`."
   ]
  },
  {
   "cell_type": "code",
   "execution_count": 5,
   "metadata": {},
   "outputs": [
    {
     "name": "stdout",
     "output_type": "stream",
     "text": [
      "   Pre-trial (unadjusted)  Convicted (unadjusted)\n",
      "5                494200.0                291200.0\n",
      "1                175669.0                166224.0\n",
      "4                414800.0                269900.0\n"
     ]
    }
   ],
   "source": [
    "cols = ['Pre-trial (unadjusted)','Convicted (unadjusted)']\n",
    "print(pop[cols].sample(3))"
   ]
  },
  {
   "cell_type": "markdown",
   "metadata": {},
   "source": [
    "`jail_trends.csv` contains data among the states collected in 2013, comparing different incarceration rate information. This data gives a general breakdown of why different people are being held at a state level"
   ]
  },
  {
   "cell_type": "code",
   "execution_count": 6,
   "metadata": {},
   "outputs": [
    {
     "name": "stdout",
     "output_type": "stream",
     "text": [
      "                Jail growth (1983-2013)  Percent pre-trial (2013)\n",
      "Minnesota                          1.78                      0.60\n",
      "Alabama                            2.21                      0.68\n",
      "South Carolina                     3.11                      0.78\n"
     ]
    }
   ],
   "source": [
    "cols = ['Jail growth (1983-2013)','Percent pre-trial (2013)']\n",
    "print(trend[cols].sample(3))"
   ]
  },
  {
   "cell_type": "markdown",
   "metadata": {},
   "source": [
    "`state_jail_data.csv` contains race, gender, and age demographic data of state incarcerated populations. This data will help us understand the demographic breakdown of state incarcerated populations"
   ]
  },
  {
   "cell_type": "code",
   "execution_count": 7,
   "metadata": {},
   "outputs": [
    {
     "name": "stdout",
     "output_type": "stream",
     "text": [
      "    CONFPOP  WHITE  BLACK  ASIAN  JUVMALE   MALE   FEM\n",
      "39    24233  12271  10845     16       67  20692  3471\n",
      "30    33341   9924  15926    275     1316  28991  2900\n",
      "34     9585   5173   2321     57       47   8195  1341\n"
     ]
    }
   ],
   "source": [
    "cols = ['CONFPOP','WHITE','BLACK','ASIAN','JUVMALE','MALE','FEM']\n",
    "print(state[cols].sample(3))"
   ]
  },
  {
   "cell_type": "markdown",
   "metadata": {},
   "source": [
    "`incarceration_by_race.csv` contains race demographic data for incarcerated populations by institution. This will allow us to understand distributions of state incarcerated populations"
   ]
  },
  {
   "cell_type": "code",
   "execution_count": 8,
   "metadata": {},
   "outputs": [
    {
     "name": "stdout",
     "output_type": "stream",
     "text": [
      "        Geography  Total  White  Black  White_rate  Black_rate\n",
      "50      Wisconsin  38102  21195  14518         432        4042\n",
      "30  New Hampshire   4851   4288    337         347        2241\n"
     ]
    }
   ],
   "source": [
    "cols = ['Geography','Total','White','Black','White_rate','Black_rate']\n",
    "print(race[cols].sample(2))"
   ]
  },
  {
   "cell_type": "markdown",
   "metadata": {},
   "source": [
    "`crime_data.csv` records crime rates over time in this U.S. This data set will help us understand how crime relates to incarceration."
   ]
  },
  {
   "cell_type": "code",
   "execution_count": 9,
   "metadata": {},
   "outputs": [
    {
     "name": "stdout",
     "output_type": "stream",
     "text": [
      "    Year  Violent crime  Murder  Rape  Robbery  Assault\n",
      "11  1971          396.0     8.6  20.5    188.0    178.8\n",
      "18  1978          497.8     9.0  31.0    195.8    262.1\n",
      "26  1986          620.1     8.6  38.1    226.0    347.4\n"
     ]
    }
   ],
   "source": [
    "cols = ['Year','Violent crime','Murder','Rape','Robbery','Assault']\n",
    "print(crime[cols].sample(3))"
   ]
  },
  {
   "cell_type": "markdown",
   "metadata": {},
   "source": [
    "### Connecticut Department of Corrections Data"
   ]
  },
  {
   "cell_type": "markdown",
   "metadata": {},
   "source": [
    "This data set contains individual information for 7.77 million people that have been processed by the justice system and recorded by the Connecticut Department of Corrections. Each individual is recorded along with their age, gender, race, offense, and sentence length, among other things.\n",
    "\n",
    "I also created a one-hot encoded this data set in order to run regressions on the data. Because of the size of the data, the regression data sets are only random subsets of the larger data set."
   ]
  },
  {
   "cell_type": "code",
   "execution_count": 19,
   "metadata": {},
   "outputs": [],
   "source": [
    "inmates = pd.read_csv('individuals.csv')\n",
    "regr_df = pd.read_csv('small_regression_df.csv')\n",
    "race_regr_df = pd.read_csv('race_regression_df.csv')"
   ]
  },
  {
   "cell_type": "code",
   "execution_count": 11,
   "metadata": {},
   "outputs": [
    {
     "name": "stdout",
     "output_type": "stream",
     "text": [
      "        LATEST ADMISSION DATE  AGE      RACE  SENTENCE DAYS\n",
      "1272156            02/26/1991   56  HISPANIC          21915\n",
      "762893             06/09/2015   34     ASIAN           2557\n",
      "4322986            06/27/2013   34  HISPANIC           2192\n"
     ]
    }
   ],
   "source": [
    "cols = ['LATEST ADMISSION DATE','AGE','RACE','SENTENCE DAYS']\n",
    "print(inmates[cols].sample(3))"
   ]
  },
  {
   "cell_type": "markdown",
   "metadata": {},
   "source": [
    "# Analysis and Visualization\n",
    "## Increased rates\n",
    "Here we can see the drastic increase of the amount of incarceration in the U.S. Something that is interesting to note is that Jails are defined as places for people who have a sentence less than 1 year, or who are awaiting trial. So we see that at its peak in 2008, there were more people awaiting trial than there were being held in federal prison in 1991.\n",
    "\n",
    "Here I have incarceration rates plotted against the violent crime rate in the United States. Near the beginning of the crime rate data we might assume some amount of inaccuracy, since the crime rate seems to be less than the incarceration rate, however there is an indisputable spike in crime rates in the 1980s and 1990s. Something to note is that the incarceration rate seems to lag behind about 20 years. Another thing to note is that there has been a strict decrease in violent crime (and in all crime) since the 90s, however we do not see the same decrease in the incarceration rate.\n",
    "\n",
    "Some would argue that we see this decrease in crime because of the increase of incarceration. I would disagree. Consider the scales of the different curves we see on the chart. Both are in terms of the rate per 100,000, but the crime rate is more that 200 times higher than the incarceration rate in state prisons. Unless 0.5% of people who committed crime in the 90s were committing more than half of all crime, I would argue that there is some other cause for the decrease in crime rates."
   ]
  },
  {
   "cell_type": "code",
   "execution_count": 12,
   "metadata": {
    "tags": [
     "hide_input"
    ]
   },
   "outputs": [
    {
     "data": {
      "image/png": "[encoded data removed]",
      "text/plain": [
       "<Figure size 576x432 with 2 Axes>"
      ]
     },
     "metadata": {
      "needs_background": "light"
     },
     "output_type": "display_data"
    }
   ],
   "source": [
    "fig, ax = plt.subplots(figsize=(8,6))\n",
    "ax.plot(\n",
    "    incar['Year'].values,\n",
    "    incar['State prisons'].values / (incar.Population*10**4),\n",
    "    label='State Prisons', color='tab:blue')\n",
    "\n",
    "ax.plot(\n",
    "    incar['Year'].values,\n",
    "    incar['Local jails'].values / (incar.Population*10**4),\n",
    "    label='Local Jails', color='tab:orange')\n",
    "ax2 = ax.twinx()\n",
    "ax2.plot(\n",
    "    crime.Year, crime['Violent crime'],\n",
    "    label='violent crime', color='tab:red'\n",
    ")\n",
    "ax2.set_ylabel('rate per 100,000')\n",
    "ax2.legend()\n",
    "ax.legend()\n",
    "ax.set_title('Incarceration and Crime Trends Over Time')\n",
    "ax.set_xlabel('Year')\n",
    "ax.set_ylabel('rate per 100,000')\n",
    "plt.show()"
   ]
  },
  {
   "cell_type": "markdown",
   "metadata": {},
   "source": [
    "## Artifacts of Prison Policy\n",
    "One might expect sentence lengths to be distributed somewhat smoothly. However there are standard sentence lengths and mandatory minimum sentences that influence the distribution of sentence lenghts, making the distribution not smooth."
   ]
  },
  {
   "cell_type": "code",
   "execution_count": 13,
   "metadata": {
    "tags": [
     "hide_input"
    ]
   },
   "outputs": [
    {
     "data": {
      "image/png": "[encoded data removed]",
      "text/plain": [
       "<Figure size 720x360 with 1 Axes>"
      ]
     },
     "metadata": {
      "needs_background": "light"
     },
     "output_type": "display_data"
    }
   ],
   "source": [
    "fig, ax = plt.subplots(1, figsize=(10,5))\n",
    "ax.set_xlim(0,10000)\n",
    "mask = inmates['SENTENCE DAYS'] < 10000\n",
    "ax.hist(\n",
    "    inmates['SENTENCE DAYS'][mask].values,\n",
    "    bins=200\n",
    ")\n",
    "plt.show()"
   ]
  },
  {
   "cell_type": "markdown",
   "metadata": {},
   "source": [
    "## Racial Disparities\n",
    "Here we will explore how the criminal justice system affects people of different races.\n",
    "\n",
    "### Distribution of Sentence Lengths\n",
    "The first chart that we will explore is the distribution of sentence lengths among people of different races. Here we are using the data of more the 7.7 million individuals processed by the criminal justice system.\n",
    "The medians are compariable on the scale at which sentence length is given. Asians and American Indians have the longest median sentence length, however the standard deviation in their sentence lengths is much less than what is seen in the other racial categories. I would attribute this to there being many more Hispanic, Black, and White people that receive extreme sentence lenghts and this is seen in the max sentence lengths."
   ]
  },
  {
   "cell_type": "code",
   "execution_count": 14,
   "metadata": {
    "tags": [
     "hide_input"
    ]
   },
   "outputs": [
    {
     "name": "stdout",
     "output_type": "stream",
     "text": [
      "Median sentence lengths:\n",
      " RACE\n",
      "AMER IND    2192\n",
      "ASIAN       2557\n",
      "BLACK       1826\n",
      "HISPANIC    1826\n",
      "WHITE       1461\n",
      "Name: SENTENCE DAYS, dtype: int64\n",
      "\n",
      "\n",
      "Standard deviation of sentence lengths:\n",
      " RACE\n",
      "AMER IND     3208.584729\n",
      "ASIAN        5122.011265\n",
      "BLACK       37306.146883\n",
      "HISPANIC    35763.282330\n",
      "WHITE       46882.705552\n",
      "Name: SENTENCE DAYS, dtype: float64\n",
      "\n",
      "\n",
      "Max sentence lengths:\n",
      " RACE\n",
      "AMER IND     14610\n",
      "ASIAN        27394\n",
      "BLACK       368897\n",
      "HISPANIC    368897\n",
      "WHITE       368897\n",
      "Name: SENTENCE DAYS, dtype: int64\n"
     ]
    }
   ],
   "source": [
    "races = inmates.groupby(by='RACE')\n",
    "print(\n",
    "    'Median sentence lengths:\\n {}'.format(races['SENTENCE DAYS'].median())\n",
    ")\n",
    "print('\\n')\n",
    "print(\n",
    "    'Standard deviation of sentence lengths:\\n {}'.format(races['SENTENCE DAYS'].std())\n",
    ")\n",
    "print('\\n')\n",
    "print(\n",
    "    'Max sentence lengths:\\n {}'.format(races['SENTENCE DAYS'].max())\n",
    ")"
   ]
  },
  {
   "cell_type": "markdown",
   "metadata": {},
   "source": [
    "This boxplot is where we begin to see disparity in the way people of different races are sentenced. While the first two quartiles of each racial group's sentence lengths are similar, we see that the top two quartiles vary widely."
   ]
  },
  {
   "cell_type": "code",
   "execution_count": 15,
   "metadata": {
    "tags": [
     "hide_input"
    ]
   },
   "outputs": [
    {
     "data": {
      "image/png": "[encoded data removed]",
      "text/plain": [
       "<Figure size 864x576 with 1 Axes>"
      ]
     },
     "metadata": {
      "needs_background": "light"
     },
     "output_type": "display_data"
    }
   ],
   "source": [
    "fig, ax = plt.subplots(1, figsize=(12,8))\n",
    "ax.set_xlim(-50,20000)\n",
    "bp = inmates.boxplot(\n",
    "    ['SENTENCE DAYS'], by=['RACE'],\n",
    "    vert=False, grid=False,\n",
    "    ax=ax\n",
    ")\n",
    "ax.set_title('distribution of sentence lengths')\n",
    "ax.set_xlabel('sentence length in days')\n",
    "plt.show()"
   ]
  },
  {
   "cell_type": "markdown",
   "metadata": {},
   "source": [
    "The following histograms will assist us in understanding these distributions."
   ]
  },
  {
   "cell_type": "code",
   "execution_count": 16,
   "metadata": {
    "tags": [
     "hide_input"
    ]
   },
   "outputs": [
    {
     "data": {
      "image/png": "[encoded data removed]",
      "text/plain": [
       "<Figure size 720x720 with 6 Axes>"
      ]
     },
     "metadata": {
      "needs_background": "light"
     },
     "output_type": "display_data"
    }
   ],
   "source": [
    "fig, ax = plt.subplots(3,2, figsize=(10,10))\n",
    "indexer = {\n",
    "    (0,0):'BLACK',\n",
    "    (0,1):'WHITE',\n",
    "    (1,0):'ASIAN',\n",
    "    (1,1):'HISPANIC',\n",
    "    (2,0):'AMER IND'\n",
    "}\n",
    "for key in indexer.keys():\n",
    "    ax[key].set_xlim(-50,20000)\n",
    "    mask = races.get_group(indexer[key])['SENTENCE DAYS'] < 20000\n",
    "    ax[key].hist(\n",
    "        races.get_group(indexer[key])['SENTENCE DAYS'][mask],\n",
    "        bins=50\n",
    "    )\n",
    "    ax[key].set_xlabel('distribution of sentence length in days')\n",
    "    ax[key].set_title(indexer[key])\n",
    "\n",
    "fig.tight_layout()\n",
    "plt.show()"
   ]
  },
  {
   "cell_type": "markdown",
   "metadata": {},
   "source": [
    "While it may appear that these sentences are distributed fairly equivilently, we can examine the kurtosis of the distribution to understand how much of the weight of the distribution is found in the extremities. Groups with high kurtosis have a higher probability of receiving a sentence that is far from the mean.\n",
    "\n",
    "As we can see, Blacks and Hispanics have the greatest kurtosis. We can expect the very small kurtosis in American Indians and Asians because they had such a small standard deviation."
   ]
  },
  {
   "cell_type": "code",
   "execution_count": 17,
   "metadata": {
    "tags": [
     "hide_input"
    ]
   },
   "outputs": [
    {
     "name": "stdout",
     "output_type": "stream",
     "text": [
      "White Kurtosis: 54.01344161453346\n",
      "Black Kurtosis: 86.11479232153843\n",
      "Hispanic Kurtosis: 96.03075354970996\n",
      "American Indian Kurtosis: 4.0085627062942955\n",
      "Asian Kurtosis: 7.45297417968173\n"
     ]
    }
   ],
   "source": [
    "out = '{} Kurtosis: {}'\n",
    "kurts = {\n",
    "    'White':\n",
    "    stats.kurtosis(races.get_group('WHITE')['SENTENCE DAYS']),\n",
    "    'Black':\n",
    "    stats.kurtosis(races.get_group('BLACK')['SENTENCE DAYS']),\n",
    "    'Hispanic':\n",
    "    stats.kurtosis(races.get_group('HISPANIC')['SENTENCE DAYS']),\n",
    "    'American Indian':\n",
    "    stats.kurtosis(races.get_group('AMER IND')['SENTENCE DAYS']),\n",
    "    'Asian':\n",
    "    stats.kurtosis(races.get_group('ASIAN')['SENTENCE DAYS']),\n",
    "}\n",
    "\n",
    "for key in kurts.keys():\n",
    "    print(\n",
    "        out.format(key, kurts[key])\n",
    "    )"
   ]
  },
  {
   "cell_type": "markdown",
   "metadata": {},
   "source": [
    "### Predicting Sentence Length\n",
    "As indicated by the regression below, attempting to predict sentence length based only on the race of the offender is not possible. A larger regression, contained in the appendix, shows that a simple linear regression does a decent job with an $R^2$ value of 0.52. \n",
    "\n",
    "So how can we explore more deeply the relationship between race and sentence length?"
   ]
  },
  {
   "cell_type": "code",
   "execution_count": 20,
   "metadata": {
    "tags": [
     "hide_input"
    ]
   },
   "outputs": [
    {
     "name": "stdout",
     "output_type": "stream",
     "text": [
      "                            OLS Regression Results                            \n",
      "==============================================================================\n",
      "Dep. Variable:          SENTENCE DAYS   R-squared:                       0.036\n",
      "Model:                            OLS   Adj. R-squared:                  0.036\n",
      "Method:                 Least Squares   F-statistic:                     6017.\n",
      "Date:                Tue, 10 Dec 2019   Prob (F-statistic):               0.00\n",
      "Time:                        22:03:58   Log-Likelihood:            -9.7052e+06\n",
      "No. Observations:              809642   AIC:                         1.941e+07\n",
      "Df Residuals:                  809636   BIC:                         1.941e+07\n",
      "Df Model:                           5                                         \n",
      "Covariance Type:            nonrobust                                         \n",
      "==============================================================================\n",
      "                 coef    std err          t      P>|t|      [0.025      0.975]\n",
      "------------------------------------------------------------------------------\n",
      "AGE          642.6980      3.731    172.241      0.000     635.385     650.011\n",
      "ASIAN       1947.5280   1061.851      1.834      0.067    -133.665    4028.721\n",
      "BLACK       7312.0117    852.800      8.574      0.000    5640.551    8983.472\n",
      "HISPANIC    5578.0856    854.307      6.529      0.000    3903.671    7252.500\n",
      "WHITE       4787.5315    853.636      5.608      0.000    3114.434    6460.629\n",
      "0          -2.191e+04    862.310    -25.403      0.000   -2.36e+04   -2.02e+04\n",
      "==============================================================================\n",
      "Omnibus:                  1125746.686   Durbin-Watson:                   2.001\n",
      "Prob(Omnibus):                  0.000   Jarque-Bera (JB):        193819619.671\n",
      "Skew:                           8.505   Prob(JB):                         0.00\n",
      "Kurtosis:                      76.865   Cond. No.                     1.75e+03\n",
      "==============================================================================\n",
      "\n",
      "Warnings:\n",
      "[1] Standard Errors assume that the covariance matrix of the errors is correctly specified.\n",
      "[2] The condition number is large, 1.75e+03. This might indicate that there are\n",
      "strong multicollinearity or other numerical problems.\n"
     ]
    }
   ],
   "source": [
    "race_regr_df.dropna(inplace=True)\n",
    "sentence = race_regr_df['SENTENCE DAYS']\n",
    "race_regr_df.drop(\n",
    "    ['SENTENCE DAYS','Unnamed: 0'], axis=1, inplace=True\n",
    ")\n",
    "X_train, X_test, y_train, y_test = model_selection.train_test_split(\n",
    "    race_regr_df.astype(float), sentence, test_size=.3\n",
    ")\n",
    "res_gen = sm.OLS(y_train, X_train).fit()\n",
    "print(res_gen.summary())"
   ]
  },
  {
   "cell_type": "markdown",
   "metadata": {},
   "source": [
    "In the following section we will examine only individuals that have commited the same crime. Then, among those individuals we will examine distributions of sentence length and attempt regression.\n",
    "\n",
    "We will begin by examining the distribution of sentence lengths among offenders convicted of \"1ST DEGREE MURDER, OTHER HOMICIDES     F\""
   ]
  },
  {
   "cell_type": "code",
   "execution_count": 52,
   "metadata": {},
   "outputs": [
    {
     "data": {
      "image/png": "[encoded data removed]",
      "text/plain": [
       "<Figure size 864x576 with 1 Axes>"
      ]
     },
     "metadata": {
      "needs_background": "light"
     },
     "output_type": "display_data"
    }
   ],
   "source": [
    "mask = inmates['OFFENSE'] == 'ASSAULT, FIRST DEGREE                 BF'\n",
    "# inmates[mask]['RACE'].sample(10)\n",
    "fig, ax = plt.subplots(1, figsize=(12,8))\n",
    "# ax.set_xlim(-50,20000)\n",
    "bp = inmates[mask].boxplot(\n",
    "    ['SENTENCE DAYS'], by=['RACE'],\n",
    "    vert=False, grid=False,\n",
    "    ax=ax\n",
    ")\n",
    "ax.set_title('distribution of sentence lengths')\n",
    "ax.set_xlabel('sentence length in days')\n",
    "plt.show()"
   ]
  },
  {
   "cell_type": "code",
   "execution_count": 26,
   "metadata": {},
   "outputs": [
    {
     "name": "stdout",
     "output_type": "stream",
     "text": [
      "                            OLS Regression Results                            \n",
      "==============================================================================\n",
      "Dep. Variable:          SENTENCE DAYS   R-squared:                       0.566\n",
      "Model:                            OLS   Adj. R-squared:                  0.562\n",
      "Method:                 Least Squares   F-statistic:                     151.8\n",
      "Date:                Tue, 10 Dec 2019   Prob (F-statistic):               0.00\n",
      "Time:                        22:28:18   Log-Likelihood:            -2.6348e+05\n",
      "No. Observations:               22824   AIC:                         5.273e+05\n",
      "Df Residuals:                   22629   BIC:                         5.289e+05\n",
      "Df Model:                         194                                         \n",
      "Covariance Type:            nonrobust                                         \n",
      "============================================================================================================\n",
      "                                               coef    std err          t      P>|t|      [0.025      0.975]\n",
      "------------------------------------------------------------------------------------------------------------\n",
      "AGE                                        274.9080     15.540     17.691      0.000     244.449     305.367\n",
      "1ST DEGREE MURDER, OTHER HOMICIDES     F  3.565e+05   2.29e+04     15.577      0.000    3.12e+05    4.01e+05\n",
      "53-202A                                   2948.0247   3.07e+04      0.096      0.924   -5.72e+04    6.31e+04\n",
      "53A189C                                  -7.556e-11   4.16e-10     -0.182      0.856    -8.9e-10    7.39e-10\n",
      "ABUSE OF PERSONS-1ST DEGREE           CF -7515.4241   2.51e+04     -0.300      0.764   -5.67e+04    4.16e+04\n",
      "ABUSE OF PERSONS-2ND DEGREE           DF  4.423e-10      7e-10      0.632      0.528    -9.3e-10    1.81e-09\n",
      "AGGAVTD SEX ASSLT-VCTM < 13YR         AF  1.063e+04   2.01e+04      0.529      0.597   -2.88e+04       5e+04\n",
      "ALLOWING PERSON UNDER 16 TO OPERATE MV M  2.009e-10   3.05e-10      0.660      0.510   -3.96e-10    7.98e-10\n",
      "ALTERING OR REMOVING IDENT NUMBER      F  2813.2190   1.91e+04      0.147      0.883   -3.47e+04    4.03e+04\n",
      "ALTERNATE PENALTY FOR DRUG SALES          4693.5473   3.07e+04      0.153      0.879   -5.55e+04    6.49e+04\n",
      "APPLICATION TO PURCHASE A FIREARM         -819.2760   3.07e+04     -0.027      0.979    -6.1e+04    5.94e+04\n",
      "ARSON MURDER                           F  2.228e+04   2.51e+04      0.889      0.374   -2.69e+04    7.14e+04\n",
      "ARSON, FIRST DEGREE                   AF  9554.7391    1.8e+04      0.531      0.596   -2.57e+04    4.49e+04\n",
      "ARSON, SECOND DEGREE                  BF  1098.5618   1.84e+04      0.060      0.953   -3.51e+04    3.73e+04\n",
      "ARSON, THIRD DEGREE                   CF  1780.1746   1.96e+04      0.091      0.928   -3.66e+04    4.02e+04\n",
      "ASSAULT 2ND DEGREE WITH A FIREARM     DF   483.8343   1.91e+04      0.025      0.980    -3.7e+04     3.8e+04\n",
      "ASSAULT 2ND WITH MV WHILE INTOXICATED DF -1127.6322    1.8e+04     -0.063      0.950   -3.65e+04    3.42e+04\n",
      "ASSAULT 2ND, VICTIM 60 OR OVER        DF -2179.9560   1.89e+04     -0.115      0.908   -3.92e+04    3.48e+04\n",
      "ASSAULT 3RD DEGREE, VICTIM OVER 59    AM  -210.3714   1.86e+04     -0.011      0.991   -3.67e+04    3.62e+04\n",
      "ASSAULT ON POLICE OR FIRE OFFICER     CF  1072.4857   1.78e+04      0.060      0.952   -3.38e+04     3.6e+04\n",
      "ASSAULT, 1ST VICTIM 60 OR OVER        BF  3863.1478   1.82e+04      0.212      0.832   -3.18e+04    3.96e+04\n",
      "ASSAULT, FIRST DEGREE                 BF  3147.7895   1.77e+04      0.177      0.859   -3.16e+04    3.79e+04\n",
      "ASSAULT, SECOND DEGREE                DF   -85.8710   1.78e+04     -0.005      0.996   -3.49e+04    3.48e+04\n",
      "ASSAULT, THIRD DEGREE                 AM  -868.4905   1.78e+04     -0.049      0.961   -3.57e+04     3.4e+04\n",
      "BREACH OF PEACE                       BM -2192.0144   1.81e+04     -0.121      0.904   -3.78e+04    3.34e+04\n",
      "BRIBERY OF WITNESS                    DF  1.025e-10   1.42e-10      0.720      0.471   -1.76e-10    3.81e-10\n",
      "BURGLARY, FIRST DEGREE                BF  2292.4613   1.78e+04      0.129      0.897   -3.25e+04    3.71e+04\n",
      "BURGLARY, FIRST DEGREE: 53A101A(2)    BF  2442.5845    1.9e+04      0.128      0.898   -3.49e+04    3.98e+04\n",
      "BURGLARY, SECOND DEGREE               CF  1131.8389   1.78e+04      0.063      0.949   -3.38e+04    3.61e+04\n",
      "BURGLARY, SECOND DEGREE WITH FIREARM  CF  2913.5688   2.51e+04      0.116      0.907   -4.62e+04     5.2e+04\n",
      "BURGLARY, THIRD DEGREE                DF  -866.9575   1.77e+04     -0.049      0.961   -3.57e+04    3.39e+04\n",
      "BURGLARY, THIRD DEGREE WITH FIREARM   DF  4325.2887   3.07e+04      0.141      0.888   -5.59e+04    6.45e+04\n",
      "CAPITAL FELONY                         F  3.555e+05   1.79e+04     19.880      0.000     3.2e+05    3.91e+05\n",
      "CARRY PIST/RVOLV W/O PERMIT               1926.5403    1.8e+04      0.107      0.915   -3.34e+04    3.72e+04\n",
      "CARRYING OR SALE OF DANGEROUS WEAPON     -1526.5907   1.83e+04     -0.083      0.934   -3.74e+04    3.44e+04\n",
      "CARRYING WEAPON IN A MOTOR VEHICLE     F  2397.4468    1.8e+04      0.133      0.894   -3.28e+04    3.76e+04\n",
      "CARRYING WEAPONS WITHOUT A PERMIT      F  2455.2172   1.78e+04      0.138      0.890   -3.25e+04    3.74e+04\n",
      "CHEATING AT GAMBLING                     -1364.0434    2.1e+04     -0.065      0.948   -4.25e+04    3.98e+04\n",
      "COERCION                                  1.837e-10    6.6e-10      0.278      0.781   -1.11e-09    1.48e-09\n",
      "COMMIT SEXUAL OFF IN ANOTHER JURIS    DF   803.4922   2.05e+04      0.039      0.969   -3.93e+04    4.09e+04\n",
      "CONSPIRACY                                3678.1110   1.78e+04      0.207      0.836   -3.11e+04    3.85e+04\n",
      "CONTEMPT OF COURT                      M  -213.9910   2.01e+04     -0.011      0.992   -3.96e+04    3.92e+04\n",
      "CONVEY UNAUTHZD ITEMS INTO INST       DF -1869.4552   2.29e+04     -0.082      0.935   -4.67e+04     4.3e+04\n",
      "CREDIT CARD THEFT                          -51.1144   2.29e+04     -0.002      0.998   -4.49e+04    4.48e+04\n",
      "CRIM DAMAGE PROPERTY 1ST DEG          DF  6.253e-11   1.04e-10      0.602      0.547   -1.41e-10    2.66e-10\n",
      "CRIM VIOL CIVIL PROTECTION ORDER      DF  2586.1567   2.51e+04      0.103      0.918   -4.65e+04    5.17e+04\n",
      "CRIM VIOL OF PROTECTIVE ORDER         AM -4.906e-11   2.07e-10     -0.237      0.813   -4.55e-10    3.56e-10\n",
      "CRIM VIOL OF PROTECTIVE ORDER         DF -1019.2670   1.78e+04     -0.057      0.954   -3.58e+04    3.38e+04\n",
      "CRIM VIOL RES ORDER                   AM -1365.8442   1.81e+04     -0.076      0.940   -3.68e+04     3.4e+04\n",
      "CRIM VIOL ST CRIM RESTR ORDER         DF -1871.9111   1.79e+04     -0.105      0.917   -3.69e+04    3.32e+04\n",
      "CRIMINAL ATTEMPT                          1904.5286   1.78e+04      0.107      0.915   -3.29e+04    3.67e+04\n",
      "CRIMINAL CONTEMPT                      M -5071.9710   2.29e+04     -0.222      0.825   -4.99e+04    3.98e+04\n",
      "CRIMINAL IMPERSONATION                BM -4301.1720   3.07e+04     -0.140      0.889   -6.45e+04    5.59e+04\n",
      "CRIMINAL LIABILITY FOR ANOTHER PERSON     4.083e+04   1.78e+04      2.295      0.022    5958.516    7.57e+04\n",
      "CRIMINAL MISCHIEF, FIRST DEGREE       DF   304.2049   1.88e+04      0.016      0.987   -3.66e+04    3.72e+04\n",
      "CRIMINAL MISCHIEF, SECOND DEGREE      AM -1600.4547   1.89e+04     -0.085      0.932   -3.86e+04    3.54e+04\n",
      "CRIMINAL MISCHIEF, THIRD DEGREE       BM   282.3803   2.51e+04      0.011      0.991   -4.88e+04    4.94e+04\n",
      "CRIMINAL POSS BODY ARMOR              AM  -581.8070   3.07e+04     -0.019      0.985   -6.08e+04    5.96e+04\n",
      "CRIMINAL POSS OF PISTOL/REVOLVER      DF  1163.7916   1.78e+04      0.065      0.948   -3.37e+04     3.6e+04\n",
      "CRIMINAL POSSESSION OF A PISTOL       DF  1300.0433   1.78e+04      0.073      0.942   -3.35e+04    3.61e+04\n",
      "CRIMINAL TRESPASS, FIRST DEGREE       AM -3313.9734   1.83e+04     -0.182      0.856   -3.91e+04    3.25e+04\n",
      "CRIMINAL TRESPASS, SECOND DEGREE      BM  2586.6567   2.29e+04      0.113      0.910   -4.23e+04    4.74e+04\n",
      "CRIMINAL TRESPASS, THIRD DEGREE       CM -2.866e-10   7.93e-10     -0.361      0.718   -1.84e-09    1.27e-09\n",
      "CRIMINAL TROVER, 2ND DEGREE           AM  1.414e-10   3.35e-10      0.422      0.673   -5.15e-10    7.98e-10\n",
      "CRIMINAL USE OF A FIREARM             DF  2.821e-10   8.94e-10      0.315      0.752   -1.47e-09    2.04e-09\n",
      "CRIMINAL VIOL. PROTECTION ORDER       AM  3.306e-10   7.86e-10      0.420      0.674   -1.21e-09    1.87e-09\n",
      "CRIMINALLY NEGLIGENT HOMICIDE         AM  1438.4462   2.05e+04      0.070      0.944   -3.87e+04    4.16e+04\n",
      "CRUELTY TO ANIMALS                         515.7370   2.29e+04      0.023      0.982   -4.43e+04    4.54e+04\n",
      "CRUELTY TO PERSONS                         752.3927   2.51e+04      0.030      0.976   -4.84e+04    4.99e+04\n",
      "DISORDERLY CONDUCT                    CM -1387.7365   1.89e+04     -0.073      0.942   -3.85e+04    3.58e+04\n",
      "DISSEMINATING VOYEURISTIC MATERIAL    DF   2.13e-10   5.43e-10      0.392      0.695   -8.51e-10    1.28e-09\n",
      "DRIVING WHILE LICENSE SUSP FOR DWI       -2813.5567    1.8e+04     -0.156      0.876   -3.81e+04    3.25e+04\n",
      "DRUG PARAPHERNALIA IN DRUG FACTORY     F  -279.7242    2.1e+04     -0.013      0.989   -4.14e+04    4.08e+04\n",
      "DRUGS NEAR PROBIBITED PLACE               9691.3126   3.07e+04      0.316      0.752   -5.05e+04    6.99e+04\n",
      "DUI .02 BAC AND UNDER 21 YRS             -3.831e-10   9.52e-10     -0.403      0.687   -2.25e-09    1.48e-09\n",
      "EMPLOYING MINOR IN OBSCENE PERFORMNCE AF   -26.8221   1.89e+04     -0.001      0.999   -3.72e+04    3.71e+04\n",
      "ENTICING A MINOR                           182.7636   1.94e+04      0.009      0.992   -3.79e+04    3.82e+04\n",
      "ESCAPE FROM CUSTODY                       2657.9880   2.51e+04      0.106      0.916   -4.65e+04    5.18e+04\n",
      "ESCAPE, FIRST DEGREE                  CF    -4.8830    1.8e+04     -0.000      1.000   -3.53e+04    3.53e+04\n",
      "EVADING RESPONSIBILITY                 M    77.4672   1.81e+04      0.004      0.997   -3.54e+04    3.56e+04\n",
      "FAILURE REGISTER SEXUAL PURPOSE       DF  3.141e-10   7.56e-10      0.415      0.678   -1.17e-09     1.8e-09\n",
      "FAILURE TO APPEAR, FIRST DEGREE       DF  -653.5439    1.8e+04     -0.036      0.971   -3.59e+04    3.46e+04\n",
      "FAILURE TO APPEAR, SECOND DEGREE      AM  -724.1136   1.82e+04     -0.040      0.968   -3.63e+04    3.49e+04\n",
      "FAILURE TO FURNISH TAX RETURN             9.184e-11   2.48e-10      0.370      0.712   -3.95e-10    5.79e-10\n",
      "FAILURE TO OBEY AN OFFICER                 612.2416   1.91e+04      0.032      0.974   -3.69e+04    3.81e+04\n",
      "FAILURE TO PAY OR PLEAD                M -5567.7674   3.07e+04     -0.181      0.856   -6.57e+04    5.46e+04\n",
      "FALSE STATEMENT, 2ND DEGREE           AM  2.483e-11    3.4e-11      0.730      0.465   -4.18e-11    9.15e-11\n",
      "FALSELY REPORTING AN INCIDENT 2ND     AM   2.77e-11   1.44e-10      0.192      0.848   -2.55e-10    3.11e-10\n",
      "FALSELY REPORTING INCIDENT                1302.2087   2.17e+04      0.060      0.952   -4.13e+04    4.39e+04\n",
      "FEDERAL OFFENSE                          -1.057e-11   2.93e-11     -0.360      0.719   -6.81e-11    4.69e-11\n",
      "FELONY MURDER                         AF  3.226e+04   1.78e+04      1.815      0.069   -2569.372    6.71e+04\n",
      "FINES FOR VIOLATIONS                     -2.027e-11   2.48e-11     -0.818      0.413   -6.88e-11    2.83e-11\n",
      "FLR KEEP NARC IN ORG CONTAINER         F -1185.1840   2.51e+04     -0.047      0.962   -5.03e+04    4.79e+04\n",
      "FORGERY, FIRST DEGREE                 CF  2894.1552    2.1e+04      0.138      0.890   -3.82e+04     4.4e+04\n",
      "FORGERY, SECOND DEGREE                DF    96.5249   1.81e+04      0.005      0.996   -3.55e+04    3.57e+04\n",
      "FORGERY, THIRD DEGREE                 BM  -436.9209   1.98e+04     -0.022      0.982   -3.93e+04    3.84e+04\n",
      "HARASSMENT 1ST DEGREE                 DF -3339.2765   1.98e+04     -0.168      0.866   -4.22e+04    3.55e+04\n",
      "HARASSMENT, 2ND DEGREE                CM -9308.1297    2.1e+04     -0.444      0.657   -5.04e+04    3.18e+04\n",
      "HINDER PROSECUTION DEFINED             F  1982.7222   2.29e+04      0.087      0.931   -4.29e+04    4.69e+04\n",
      "HINDER PROSECUTION, FIRST DEGREE      DF  1003.6953   1.93e+04      0.052      0.958   -3.68e+04    3.88e+04\n",
      "HINDERING PROSECUTION 2ND DEG             4.539e-12    2.6e-11      0.175      0.861   -4.64e-11    5.54e-11\n",
      "HOME INVASION                             1566.0333   2.17e+04      0.072      0.943    -4.1e+04    4.41e+04\n",
      "HOME INVASION                         AF  4542.9772   1.78e+04      0.255      0.799   -3.04e+04    3.95e+04\n",
      "IDENTITY THEFT 1ST DEGREE             BF  -114.7278   1.96e+04     -0.006      0.995   -3.85e+04    3.83e+04\n",
      "IDENTITY THEFT 2ND DEGREE             CF  1195.1720   2.51e+04      0.048      0.962   -4.79e+04    5.03e+04\n",
      "IDENTITY THEFT 3RD DEGREE             DF    55.0068   1.83e+04      0.003      0.998   -3.58e+04    3.59e+04\n",
      "IL POS LRG CAP MAG OBT AF 4/13        DF -1.029e-11   1.75e-11     -0.590      0.555   -4.45e-11    2.39e-11\n",
      "ILL CARRY FIREARM-UI DRUGS/ALC           -1.223e-11   2.56e-11     -0.479      0.632   -6.23e-11    3.79e-11\n",
      "ILL OP MV WO IGNITION DEVICE          CM -2726.1103   1.89e+04     -0.144      0.885   -3.97e+04    3.43e+04\n",
      "ILL POSSESS CHILD PORN 2ND DEG         F -3802.6097    1.8e+04     -0.211      0.833   -3.91e+04    3.15e+04\n",
      "ILL POSSESS CHILD PORN 3RD DEG        DF -2201.1481   1.81e+04     -0.122      0.903   -3.76e+04    3.32e+04\n",
      "ILLEGAL GAIN FROM CREDIT CARD         AM  2870.9971   2.29e+04      0.125      0.900    -4.2e+04    4.77e+04\n",
      "ILLEGAL MANUFACTUAL OR SALE OF DRUGS      -5.97e-12   1.82e-11     -0.327      0.743   -4.17e-11    2.98e-11\n",
      "ILLEGAL POSSES OF SHOP LIFTING DEVICE AM -6592.3441   2.51e+04     -0.263      0.793   -5.57e+04    4.25e+04\n",
      "ILLEGAL POSSESSION OF EXPLOSIVES       F -7788.5161   2.51e+04     -0.311      0.756   -5.69e+04    4.13e+04\n",
      "ILLEGAL REFUSAL OF DNA TESTING            4.282e-14   1.84e-11      0.002      0.998    -3.6e-11    3.61e-11\n",
      "ILLEGAL USE OF CREDIT CARD                1592.2848   1.98e+04      0.080      0.936   -3.72e+04    4.04e+04\n",
      "IMPERSONATION OF POLICE OFFICER       DF -2754.1615   2.17e+04     -0.127      0.899   -4.53e+04    3.98e+04\n",
      "IMPORTING CHILD PORNOGRAPHY            F -6.573e-11   1.62e-11     -4.054      0.000   -9.75e-11   -3.39e-11\n",
      "INCITING INJURY TO PERSONS OR PROPTY  CF -1915.3909    2.1e+04     -0.091      0.927    -4.3e+04    3.92e+04\n",
      "INDECENT ASSAULT                       F  -1.88e-11   1.72e-11     -1.094      0.274   -5.25e-11    1.49e-11\n",
      "INJUNCTION AND RESTRAINING ORDER          2.443e-11   1.78e-11      1.369      0.171   -1.06e-11    5.94e-11\n",
      "INJURY OR RISK OF INJURY TO MINOR      F  -183.6317   1.78e+04     -0.010      0.992    -3.5e+04    3.47e+04\n",
      "INJURY/RISK OF INJURY TO MINOR- SEXUAL C  -825.6388   1.78e+04     -0.046      0.963   -3.57e+04     3.4e+04\n",
      "INSURANCE FRAUD                       DF  1.776e-11   2.29e-11      0.777      0.437    -2.7e-11    6.25e-11\n",
      "INTERFERENCE WITH SEARCH                 -1094.1840   2.51e+04     -0.044      0.965   -5.02e+04     4.8e+04\n",
      "INTERFERING WITH AN EMERGENCY CALL    AM     5.4480   2.17e+04      0.000      1.000   -4.25e+04    4.26e+04\n",
      "INTERFERING WITH AN OFFICER           AM  -372.8323   1.79e+04     -0.021      0.983   -3.54e+04    3.47e+04\n",
      "INTERSTATE CUSTODY COMPACT               -6719.8751   3.07e+04     -0.219      0.827   -6.69e+04    5.35e+04\n",
      "INTIMIDATE DUE TO BIAS 3RD DEG        AM  4.735e-12   1.01e-11      0.470      0.638    -1.5e-11    2.45e-11\n",
      "INTIMIDATING A WITNESS                CF   979.3978    2.1e+04      0.047      0.963   -4.01e+04    4.21e+04\n",
      "INTIMIDATION BSD BIGOTRY/BIAS         DF  4.911e-12    1.4e-11      0.350      0.726   -2.26e-11    3.24e-11\n",
      "ISSUING A BAD CHECK                      -2376.9080   2.51e+04     -0.095      0.924   -5.15e+04    4.68e+04\n",
      "KIDNAPPING 1ST DEG W/ FIREARM         AF  1.606e+04    1.9e+04      0.848      0.397   -2.11e+04    5.32e+04\n",
      "KIDNAPPING 2ND DEG W/ FIREARM         BF  6510.7876   2.17e+04      0.300      0.764    -3.6e+04    4.91e+04\n",
      "KIDNAPPING, 2ND DEGREE                BF  2113.1583    1.8e+04      0.117      0.907   -3.32e+04    3.74e+04\n",
      "KIDNAPPING, FIRST DEGREE              AF  2.702e+04   1.79e+04      1.513      0.130   -7995.096     6.2e+04\n",
      "LARCENY DEFINED                          -7.392e-12   1.28e-11     -0.578      0.564   -3.25e-11    1.77e-11\n",
      "LARCENY, FIFTH DEGREE                 BM   841.6238   1.84e+04      0.046      0.963   -3.52e+04    3.69e+04\n",
      "LARCENY, FIRST DEGREE                 BF  -862.5895   1.78e+04     -0.048      0.961   -3.57e+04     3.4e+04\n",
      "LARCENY, FOURTH DEGREE                AM   666.1909   1.81e+04      0.037      0.971   -3.49e+04    3.62e+04\n",
      "LARCENY, SECOND DEGREE                CF  -100.6452   1.78e+04     -0.006      0.995    -3.5e+04    3.48e+04\n",
      "LARCENY, SIXTH DEGREE                 CM -3205.1590   1.78e+04     -0.180      0.857   -3.81e+04    3.17e+04\n",
      "LARCENY, THIRD DEGREE                 DF  -890.1285   1.78e+04     -0.050      0.960   -3.58e+04     3.4e+04\n",
      "LEAV CHILD UNSUPERV IN PUBL/MOT VEH    C  2259.3651   2.51e+04      0.090      0.928   -4.69e+04    5.14e+04\n",
      "LIQUOR SALES TO MINORS                   -1.359e-11   7.98e-12     -1.703      0.089   -2.92e-11    2.05e-12\n",
      "MANSLAUGHTER 2ND WITH MV (INTOX)      CF   211.8487   1.79e+04      0.012      0.991   -3.48e+04    3.53e+04\n",
      "MANSLAUGHTER 2ND, W/FIREARM           CF  4540.1824   1.94e+04      0.234      0.815   -3.35e+04    4.26e+04\n",
      "MANSLAUGHTER, FIRST DEGREE            BF  4627.1747   1.78e+04      0.260      0.795   -3.02e+04    3.95e+04\n",
      "MANSLAUGHTER, FIRST DEGREE, FIREARM   BF  7979.6063   1.78e+04      0.449      0.654   -2.69e+04    4.28e+04\n",
      "MANSLAUGHTER, SECOND DEGREE           CF  2771.0274   1.81e+04      0.153      0.878   -3.26e+04    3.82e+04\n",
      "MANUF OR POSSESSION OF BURGLAR TOOLS  AM   746.9950   2.29e+04      0.033      0.974   -4.41e+04    4.56e+04\n",
      "MANUFACTURE OF BOMBS                  BF  2664.8526   2.29e+04      0.116      0.907   -4.22e+04    4.75e+04\n",
      "MISCONDUCT WITH A MOTOR VEHICLE       DF -2094.6493   1.85e+04     -0.113      0.910   -3.84e+04    3.42e+04\n",
      "MURDER                                 F  3.566e+05   1.93e+04     18.496      0.000    3.19e+05    3.94e+05\n",
      "MURDER                                AF  3.009e+04   1.77e+04      1.696      0.090   -4682.671    6.49e+04\n",
      "NEGLG STORAGE OF A FIREARM            DF  3029.2364   2.51e+04      0.121      0.904   -4.61e+04    5.22e+04\n",
      "NEGLIGENT HOMICIDE W/ MOTOR VEHICLE   BM  2809.9971   2.51e+04      0.112      0.911   -4.63e+04    5.19e+04\n",
      "OBSCENITY AS TO MINORS                 F -4.327e-12   7.95e-12     -0.544      0.586   -1.99e-11    1.13e-11\n",
      "OPERATE UNDER INFLU OF LIQ OR DRUGS      -3875.1159   1.78e+04     -0.218      0.827   -3.87e+04     3.1e+04\n",
      "OPERATE UNDER INFLU OF LIQ OR DRUGS    M -3.917e-12   5.87e-12     -0.668      0.504   -1.54e-11    7.58e-12\n",
      "OPERATING MV W/O A LICENSE               -4.047e-12   1.12e-11     -0.362      0.717   -2.59e-11    1.78e-11\n",
      "OPERATING MV W/O INSURANCE            CM -9.067e-12   7.05e-12     -1.286      0.198   -2.29e-11    4.75e-12\n",
      "OPERATING UNDER SUSPENDED LIC OR REG.  M -3013.9870   1.87e+04     -0.161      0.872   -3.97e+04    3.37e+04\n",
      "ORGANIZED RETAIL THEFT                 F -5.044e-13   8.12e-12     -0.062      0.950   -1.64e-11    1.54e-11\n",
      "OUI MV W/CHILD PSNGR                  AM -3262.5400   2.51e+04     -0.130      0.896   -5.24e+04    4.59e+04\n",
      "PATRONIZE PROSTITUTE FM MV            AM -2.472e-12   6.42e-12     -0.385      0.700   -1.51e-11    1.01e-11\n",
      "PATRONIZING A PROSTITUTE              AM -4.315e-14   5.07e-12     -0.009      0.993   -9.98e-12     9.9e-12\n",
      "PENALTY FAIL TO SUBMIT FINGERPRINTS        6.86e-13   3.96e-12      0.173      0.862   -7.07e-12    8.45e-12\n",
      "PENALTY-EMPLOYER VIOL SEC. OF 31-71      -2.198e-12   8.83e-12     -0.249      0.803   -1.95e-11    1.51e-11\n",
      "PERMITTING PROSTITUTION               AM -1.378e-12   7.47e-12     -0.185      0.854    -1.6e-11    1.33e-11\n",
      "POSS OF ASSAULT WEAPON PROHIBITED         2000.4973   1.98e+04      0.101      0.920   -3.68e+04    4.08e+04\n",
      "POSS OF WEAPON IN A CCI               BF -1674.8249   1.94e+04     -0.086      0.931   -3.97e+04    3.64e+04\n",
      "POSS WEAPON ON SCHOOL GROUNDS         DF  5.743e-13   6.19e-12      0.093      0.926   -1.16e-11    1.27e-11\n",
      "POSSESS OF HALLUC OR 4+ OZ MARIJUANA   F  -839.3575   2.17e+04     -0.039      0.969   -4.34e+04    4.17e+04\n",
      "POSSESS OF LT 4 OZ MJ OR CONTROLD SUB     1892.2731   3.07e+04      0.062      0.951   -5.83e+04    6.21e+04\n",
      "POSSESSING CHILD PORNOGRAPH            F -2595.9155   1.79e+04     -0.145      0.884   -3.76e+04    3.24e+04\n",
      "POSSESSION OF NARCOTICS                      2.9410   1.78e+04      0.000      1.000   -3.49e+04    3.49e+04\n",
      "POSSESSION OF SHOTGUN OR SILENCER     DF  2493.7487   2.51e+04      0.099      0.921   -4.66e+04    5.16e+04\n",
      "PRACTICE OF LAW BY NON-ATTORNEYS       M -7790.3321   2.51e+04     -0.311      0.756   -5.69e+04    4.13e+04\n",
      "PRIMARY OFFENSE NOT DETERMINED            2.021e-13   6.81e-12      0.030      0.976   -1.32e-11    1.36e-11\n",
      "PROHIB ACTS RE: CONTROLLED SUBSTANCES     1926.5886   3.07e+04      0.063      0.950   -5.83e+04    6.21e+04\n",
      "PROHIB ACTS RE: DRUG PARAPHERNALIA       -1642.1840   3.07e+04     -0.053      0.957   -6.18e+04    5.85e+04\n",
      "PROHIBITED ACTIVITIES                     4189.9366   1.86e+04      0.225      0.822   -3.23e+04    4.06e+04\n",
      "PROMOTING MINOR IN OBSCENE PERFORMNCE BF -1481.9915   2.01e+04     -0.074      0.941   -4.09e+04    3.79e+04\n",
      "PROMOTING PROSTITUTION, FIRST DEGREE  BF  2120.4847   3.07e+04      0.069      0.945   -5.81e+04    6.23e+04\n",
      "PROMOTING PROSTITUTION, SECOND DEGREE CF -3581.2406   1.98e+04     -0.181      0.857   -4.24e+04    3.53e+04\n",
      "PROMOTING PROSTITUTION, THIRD DEGREE  DF -1445.0554   3.07e+04     -0.047      0.962   -6.16e+04    5.87e+04\n",
      "PROSTITUTION                          AM -2538.7048   3.07e+04     -0.083      0.934   -6.27e+04    5.77e+04\n",
      "PUBLIC INDECENCY                      BM -4428.5190   3.07e+04     -0.144      0.885   -6.46e+04    5.58e+04\n",
      "RAPE, SECOND DEGREE                   CF  3.484e-13   4.09e-12      0.085      0.932   -7.67e-12    8.37e-12\n",
      "RECKLESS BURNING                      DF  1987.6482   1.94e+04      0.102      0.918   -3.61e+04       4e+04\n",
      "RECKLESS DRIVING                       M -1.326e-13    1.7e-12     -0.078      0.938   -3.47e-12     3.2e-12\n",
      "RECKLESS ENDANGERMENT, FIRST DEGREE   AM   462.1967    1.8e+04      0.026      0.980   -3.49e+04    3.58e+04\n",
      "RECKLESS ENDANGERMENT, SECOND DEGREE  BM  -355.3655   2.05e+04     -0.017      0.986   -4.05e+04    3.98e+04\n",
      "REG PERSON WHO COMM OFF AGAINST MINOR DF  -761.0603   1.89e+04     -0.040      0.968   -3.77e+04    3.62e+04\n",
      "REG PERSON WHO COMM SEX VIOL OFF      DF -3989.0663   1.84e+04     -0.216      0.829   -4.02e+04    3.22e+04\n",
      "REGULATION OF RESTRICTED SUBSTANCES      -3387.2640   2.29e+04     -0.148      0.882   -4.82e+04    4.15e+04\n",
      "RIGGING SPORT EVENT                   DF -1.874e-13   3.29e-12     -0.057      0.955   -6.64e-12    6.27e-12\n",
      "RIOT, SECOND DEGREE                   BM -1.247e-13   1.45e-12     -0.086      0.931   -2.96e-12    2.71e-12\n",
      "ROBBERY BY CARJACKING                     -765.8696    1.9e+04     -0.040      0.968   -3.79e+04    3.64e+04\n",
      "ROBBERY, FIRST DEGREE                 BF  3230.1813   1.77e+04      0.182      0.856   -3.15e+04     3.8e+04\n",
      "ROBBERY, SECOND DEGREE                CF  1266.4691   1.78e+04      0.071      0.943   -3.36e+04    3.61e+04\n",
      "ROBBERY, THIRD DEGREE                 DF  -493.5125   1.79e+04     -0.028      0.978   -3.55e+04    3.45e+04\n",
      "SALE OF CONTROLLED SUBSTANCE           F   155.8495   1.78e+04      0.009      0.993   -3.47e+04     3.5e+04\n",
      "SALE OF HALLUCIGEN/NARCOTIC SUBSTANCE  F   385.1243   1.77e+04      0.022      0.983   -3.44e+04    3.52e+04\n",
      "SALE OF HEROIN, COC BY NON-DEPENDENT       459.9705   1.82e+04      0.025      0.980   -3.51e+04     3.6e+04\n",
      "SALE OF NARC/AMPHET BY NON-DEPENDENT   F  1520.7268   1.78e+04      0.086      0.932   -3.33e+04    3.63e+04\n",
      "SALE, CARRY & BRAND OF FACSIMILE          7182.9170   2.51e+04      0.287      0.774    -4.2e+04    5.63e+04\n",
      "SALE/POSS/TRAN OF ASLT WEAPON          F -1010.6506    2.1e+04     -0.048      0.962   -4.21e+04    4.01e+04\n",
      "SELLING WEAPONS TO ALIENS PROHIBITED   F   688.6837   1.89e+04      0.036      0.971   -3.65e+04    3.78e+04\n",
      "SEX ASLT, SPOUSE/COHAB RELATIONSHIP   BF   227.8904   1.82e+04      0.013      0.990   -3.55e+04    3.59e+04\n",
      "SEXUAL ASSAULT 1ST DEGREE-AGGRVTD      F  5199.2009   1.81e+04      0.288      0.773   -3.02e+04    4.06e+04\n",
      "SEXUAL ASSAULT, 3RD DEG W/ FIREARM    CF          0          0        nan        nan           0           0\n",
      "SEXUAL ASSAULT, FIRST DEGREE           F  3295.9687   1.77e+04      0.186      0.853   -3.15e+04    3.81e+04\n",
      "SEXUAL ASSAULT, FOURTH DEGREE         AM  -641.1004   1.79e+04     -0.036      0.971   -3.57e+04    3.44e+04\n",
      "SEXUAL ASSAULT, SECOND DEGREE          F   372.4719   1.78e+04      0.021      0.983   -3.45e+04    3.52e+04\n",
      "SEXUAL ASSAULT, THIRD DEGREE          DF  -694.1027   1.81e+04     -0.038      0.969   -3.62e+04    3.48e+04\n",
      "SPECIAL PAROLE                                    0          0        nan        nan           0           0\n",
      "STALKING, 1ST DEGREE                  DF          0          0        nan        nan           0           0\n",
      "STALKING, 2ND DEGREE                  AM -7513.6081   3.07e+04     -0.245      0.807   -6.77e+04    5.27e+04\n",
      "STALKING, 3RD DEGREE                  BM          0          0        nan        nan           0           0\n",
      "STEALING A FIREARM                    DF  2281.8455   1.82e+04      0.126      0.900   -3.33e+04    3.79e+04\n",
      "STRANGULATION 1ST DEGREE              CF -2312.8329   1.87e+04     -0.124      0.901   -3.89e+04    3.43e+04\n",
      "STRANGULATION 2ND DEGREE              DF  -351.9686   1.79e+04     -0.020      0.984   -3.55e+04    3.48e+04\n",
      "STRANGULATION 3RD DEGREE                  -146.1525   1.88e+04     -0.008      0.994    -3.7e+04    3.67e+04\n",
      "TAMPERING WITH OR FABRICATING EVIDNC  DF -1056.2015   1.89e+04     -0.056      0.955   -3.81e+04    3.59e+04\n",
      "TAMPERING WITH WITNESS                DF -2373.3534   1.88e+04     -0.126      0.900   -3.92e+04    3.45e+04\n",
      "THEFT OF UTILITY SERVICE FOR PROFIT   DF          0          0        nan        nan           0           0\n",
      "THREATENING                           AM  -436.9902   1.79e+04     -0.024      0.981   -3.56e+04    3.47e+04\n",
      "THREATENING 1ST DEGREE                DF   669.7342   1.88e+04      0.036      0.972   -3.62e+04    3.75e+04\n",
      "TRAFFICKING IN PERSONS                BF          0          0        nan        nan           0           0\n",
      "UNLAWFUL DISCHARGE OF FIREARMS         M          0          0        nan        nan           0           0\n",
      "UNLAWFUL REPRODUCTION OF CREDIT CARD  DF -5952.4361   3.07e+04     -0.194      0.846   -6.61e+04    5.42e+04\n",
      "UNLAWFUL RESTRAINT, FIRST DEGREE      DF  -444.6777    1.8e+04     -0.025      0.980   -3.56e+04    3.47e+04\n",
      "UNLAWFUL RESTRAINT, SECOND DEGREE     AM  1886.4844    1.9e+04      0.099      0.921   -3.54e+04    3.92e+04\n",
      "USE OF MACHINE GUN IN A CRIME  DELETED F          0          0        nan        nan           0           0\n",
      "USING MACHINE GUN IN CRIME             F  3316.6567   2.51e+04      0.132      0.895   -4.58e+04    5.25e+04\n",
      "USING MOTOR VEHICLE W/O PERMISSION       -1814.9427    1.9e+04     -0.095      0.924   -3.91e+04    3.55e+04\n",
      "VIO DEADLY WEAPON REGIST REQS         DF -1890.5964    2.1e+04     -0.090      0.928    -4.3e+04    3.92e+04\n",
      "VIOLATE COND OF RELEASE-2ND DEG       AM   327.8026   1.88e+04      0.017      0.986   -3.65e+04    3.72e+04\n",
      "VIOLATION OF CONDITIONS OF RELEASE         -89.2760   3.07e+04     -0.003      0.998   -6.03e+04    6.01e+04\n",
      "VIOLATION OF PROBATION OR COND DISCHG     -562.0568   1.77e+04     -0.032      0.975   -3.53e+04    3.42e+04\n",
      "VIOLATION, HOME IMPROVE REGISTRATION              0          0        nan        nan           0           0\n",
      "VOYEURISM                                -8547.3361   2.29e+04     -0.374      0.709   -5.34e+04    3.63e+04\n",
      "YOUTHFUL OFFENDER                         4155.7175    1.8e+04      0.230      0.818   -3.12e+04    3.95e+04\n",
      "M                                         2073.8142    735.687      2.819      0.005     631.817    3515.812\n",
      "AMER IND                                 -4403.1436   3361.554     -1.310      0.190    -1.1e+04    2185.733\n",
      "ASIAN                                    -1468.9773   2443.804     -0.601      0.548   -6259.001    3321.047\n",
      "BLACK                                    -1848.3927    424.418     -4.355      0.000   -2680.280   -1016.505\n",
      "HISPANIC                                  -970.2850    457.430     -2.121      0.034   -1866.878     -73.692\n",
      "0                                        -9228.6864   1.77e+04     -0.520      0.603    -4.4e+04    2.56e+04\n",
      "==============================================================================\n",
      "Omnibus:                    37956.113   Durbin-Watson:                   1.977\n",
      "Prob(Omnibus):                  0.000   Jarque-Bera (JB):         24277004.597\n",
      "Skew:                          11.457   Prob(JB):                         0.00\n",
      "Kurtosis:                     161.123   Cond. No.                     1.57e+19\n",
      "==============================================================================\n",
      "\n",
      "Warnings:\n",
      "[1] Standard Errors assume that the covariance matrix of the errors is correctly specified.\n",
      "[2] The smallest eigenvalue is 1.41e-31. This might indicate that there are\n",
      "strong multicollinearity problems or that the design matrix is singular.\n"
     ]
    }
   ],
   "source": [
    "regr_df = pd.read_csv('small_regression_df.csv')\n",
    "regr_df.dropna(inplace=True)\n",
    "sentence = regr_df['SENTENCE DAYS']\n",
    "regr_df.drop(\n",
    "    ['SENTENCE DAYS','Unnamed: 0','IDENTIFIER','LATEST ADMISSION DATE'], axis=1, inplace=True\n",
    ")\n",
    "X_train, X_test, y_train, y_test = model_selection.train_test_split(\n",
    "    regr_df.astype(float), sentence, test_size=.3\n",
    ")\n",
    "res_gen = sm.OLS(y_train, X_train).fit()\n",
    "print(res_gen.summary())"
   ]
  },
  {
   "cell_type": "code",
   "execution_count": 25,
   "metadata": {},
   "outputs": [
    {
     "data": {
      "text/plain": [
       "Index(['LATEST ADMISSION DATE', 'AGE',\n",
       "       '1ST DEGREE MURDER, OTHER HOMICIDES     F', '53-202A', '53A189C',\n",
       "       'ABUSE OF PERSONS-1ST DEGREE           CF',\n",
       "       'ABUSE OF PERSONS-2ND DEGREE           DF',\n",
       "       'AGGAVTD SEX ASSLT-VCTM < 13YR         AF',\n",
       "       'ALLOWING PERSON UNDER 16 TO OPERATE MV M',\n",
       "       'ALTERING OR REMOVING IDENT NUMBER      F',\n",
       "       ...\n",
       "       'VIOLATION OF PROBATION OR COND DISCHG',\n",
       "       'VIOLATION, HOME IMPROVE REGISTRATION', 'VOYEURISM',\n",
       "       'YOUTHFUL OFFENDER', 'M', 'AMER IND', 'ASIAN', 'BLACK', 'HISPANIC',\n",
       "       '0'],\n",
       "      dtype='object', length=253)"
      ]
     },
     "execution_count": 25,
     "metadata": {},
     "output_type": "execute_result"
    }
   ],
   "source": [
    "regr_df.columns"
   ]
  }
 ],
 "metadata": {
  "celltoolbar": "Tags",
  "kernelspec": {
   "display_name": "Python 3",
   "language": "python",
   "name": "python3"
  },
  "language_info": {
   "codemirror_mode": {
    "name": "ipython",
    "version": 3
   },
   "file_extension": ".py",
   "mimetype": "text/x-python",
   "name": "python",
   "nbconvert_exporter": "python",
   "pygments_lexer": "ipython3",
   "version": "3.7.5"
  }
 },
 "nbformat": 4,
 "nbformat_minor": 2
}
